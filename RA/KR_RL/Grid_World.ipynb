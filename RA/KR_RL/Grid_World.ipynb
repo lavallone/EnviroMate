{
  "cells": [
    {
      "cell_type": "markdown",
      "metadata": {
        "id": "5k1Xnpy5lfK4"
      },
      "source": [
        "# **Import**"
      ]
    },
    {
      "cell_type": "code",
      "execution_count": null,
      "metadata": {
        "colab": {
          "base_uri": "https://localhost:8080/"
        },
        "id": "pq2sJs18shq0",
        "outputId": "cf83d959-8391-47c2-d8ba-d1068859998a"
      },
      "outputs": [
        {
          "name": "stderr",
          "output_type": "stream",
          "text": [
            "/usr/local/lib/python3.10/dist-packages/ipykernel/ipkernel.py:283: DeprecationWarning: `should_run_async` will not call `transform_cell` automatically in the future. Please pass the result to `transformed_cell` argument and any exception that happen during thetransform in `preprocessing_exc_tuple` in IPython 7.17 and above.\n",
            "  and should_run_async(code)\n"
          ]
        },
        {
          "name": "stdout",
          "output_type": "stream",
          "text": [
            "Cloning into 'mazelab'...\n",
            "remote: Enumerating objects: 328, done.\u001b[K\n",
            "remote: Total 328 (delta 0), reused 0 (delta 0), pack-reused 328\u001b[K\n",
            "Receiving objects: 100% (328/328), 11.77 MiB | 20.39 MiB/s, done.\n",
            "Resolving deltas: 100% (113/113), done.\n",
            "/content/mazelab/mazelab/mazelab/mazelab/mazelab/mazelab/mazelab/mazelab/mazelab\n",
            "Obtaining file:///content/mazelab/mazelab/mazelab/mazelab/mazelab/mazelab/mazelab/mazelab/mazelab\n",
            "  Preparing metadata (setup.py) ... \u001b[?25l\u001b[?25hdone\n",
            "Requirement already satisfied: gym in /usr/local/lib/python3.10/dist-packages (from mazelab==0.2.0) (0.25.2)\n",
            "Requirement already satisfied: numpy in /usr/local/lib/python3.10/dist-packages (from mazelab==0.2.0) (1.22.4)\n",
            "Requirement already satisfied: matplotlib in /usr/local/lib/python3.10/dist-packages (from mazelab==0.2.0) (3.7.1)\n",
            "Requirement already satisfied: scikit-image in /usr/local/lib/python3.10/dist-packages (from mazelab==0.2.0) (0.19.3)\n",
            "Requirement already satisfied: cloudpickle>=1.2.0 in /usr/local/lib/python3.10/dist-packages (from gym->mazelab==0.2.0) (2.2.1)\n",
            "Requirement already satisfied: gym-notices>=0.0.4 in /usr/local/lib/python3.10/dist-packages (from gym->mazelab==0.2.0) (0.0.8)\n",
            "Requirement already satisfied: contourpy>=1.0.1 in /usr/local/lib/python3.10/dist-packages (from matplotlib->mazelab==0.2.0) (1.1.0)\n",
            "Requirement already satisfied: cycler>=0.10 in /usr/local/lib/python3.10/dist-packages (from matplotlib->mazelab==0.2.0) (0.11.0)\n",
            "Requirement already satisfied: fonttools>=4.22.0 in /usr/local/lib/python3.10/dist-packages (from matplotlib->mazelab==0.2.0) (4.41.0)\n",
            "Requirement already satisfied: kiwisolver>=1.0.1 in /usr/local/lib/python3.10/dist-packages (from matplotlib->mazelab==0.2.0) (1.4.4)\n",
            "Requirement already satisfied: packaging>=20.0 in /usr/local/lib/python3.10/dist-packages (from matplotlib->mazelab==0.2.0) (23.1)\n",
            "Requirement already satisfied: pillow>=6.2.0 in /usr/local/lib/python3.10/dist-packages (from matplotlib->mazelab==0.2.0) (8.4.0)\n",
            "Requirement already satisfied: pyparsing>=2.3.1 in /usr/local/lib/python3.10/dist-packages (from matplotlib->mazelab==0.2.0) (3.1.0)\n",
            "Requirement already satisfied: python-dateutil>=2.7 in /usr/local/lib/python3.10/dist-packages (from matplotlib->mazelab==0.2.0) (2.8.2)\n",
            "Requirement already satisfied: scipy>=1.4.1 in /usr/local/lib/python3.10/dist-packages (from scikit-image->mazelab==0.2.0) (1.10.1)\n",
            "Requirement already satisfied: networkx>=2.2 in /usr/local/lib/python3.10/dist-packages (from scikit-image->mazelab==0.2.0) (3.1)\n",
            "Requirement already satisfied: imageio>=2.4.1 in /usr/local/lib/python3.10/dist-packages (from scikit-image->mazelab==0.2.0) (2.25.1)\n",
            "Requirement already satisfied: tifffile>=2019.7.26 in /usr/local/lib/python3.10/dist-packages (from scikit-image->mazelab==0.2.0) (2023.7.10)\n",
            "Requirement already satisfied: PyWavelets>=1.1.1 in /usr/local/lib/python3.10/dist-packages (from scikit-image->mazelab==0.2.0) (1.4.1)\n",
            "Requirement already satisfied: six>=1.5 in /usr/local/lib/python3.10/dist-packages (from python-dateutil>=2.7->matplotlib->mazelab==0.2.0) (1.16.0)\n",
            "Installing collected packages: mazelab\n",
            "  Attempting uninstall: mazelab\n",
            "    Found existing installation: mazelab 0.2.0\n",
            "    Uninstalling mazelab-0.2.0:\n",
            "      Successfully uninstalled mazelab-0.2.0\n",
            "  Running setup.py develop for mazelab\n",
            "Successfully installed mazelab-0.2.0\n"
          ]
        }
      ],
      "source": [
        "!git clone https://github.com/zuoxingdong/mazelab.git\n",
        "%cd mazelab\n",
        "!pip install -e ."
      ]
    },
    {
      "cell_type": "code",
      "execution_count": null,
      "metadata": {
        "colab": {
          "base_uri": "https://localhost:8080/"
        },
        "id": "JduEUU59sc5T",
        "outputId": "edb7c92d-120f-4ed4-f8d3-1f46004a8a4f"
      },
      "outputs": [
        {
          "name": "stdout",
          "output_type": "stream",
          "text": [
            "Requirement already satisfied: gym>=0.12.1 in /usr/local/lib/python3.10/dist-packages (from -r requirements.txt (line 3)) (0.25.2)\n",
            "Requirement already satisfied: numpy>=1.16.2 in /usr/local/lib/python3.10/dist-packages (from -r requirements.txt (line 4)) (1.22.4)\n",
            "Requirement already satisfied: matplotlib>=3.0.3 in /usr/local/lib/python3.10/dist-packages (from -r requirements.txt (line 5)) (3.7.1)\n",
            "Requirement already satisfied: scikit-image>=0.15.0 in /usr/local/lib/python3.10/dist-packages (from -r requirements.txt (line 6)) (0.19.3)\n",
            "Requirement already satisfied: cloudpickle>=1.2.0 in /usr/local/lib/python3.10/dist-packages (from gym>=0.12.1->-r requirements.txt (line 3)) (2.2.1)\n",
            "Requirement already satisfied: gym-notices>=0.0.4 in /usr/local/lib/python3.10/dist-packages (from gym>=0.12.1->-r requirements.txt (line 3)) (0.0.8)\n",
            "Requirement already satisfied: contourpy>=1.0.1 in /usr/local/lib/python3.10/dist-packages (from matplotlib>=3.0.3->-r requirements.txt (line 5)) (1.1.0)\n",
            "Requirement already satisfied: cycler>=0.10 in /usr/local/lib/python3.10/dist-packages (from matplotlib>=3.0.3->-r requirements.txt (line 5)) (0.11.0)\n",
            "Requirement already satisfied: fonttools>=4.22.0 in /usr/local/lib/python3.10/dist-packages (from matplotlib>=3.0.3->-r requirements.txt (line 5)) (4.41.0)\n",
            "Requirement already satisfied: kiwisolver>=1.0.1 in /usr/local/lib/python3.10/dist-packages (from matplotlib>=3.0.3->-r requirements.txt (line 5)) (1.4.4)\n",
            "Requirement already satisfied: packaging>=20.0 in /usr/local/lib/python3.10/dist-packages (from matplotlib>=3.0.3->-r requirements.txt (line 5)) (23.1)\n",
            "Requirement already satisfied: pillow>=6.2.0 in /usr/local/lib/python3.10/dist-packages (from matplotlib>=3.0.3->-r requirements.txt (line 5)) (8.4.0)\n",
            "Requirement already satisfied: pyparsing>=2.3.1 in /usr/local/lib/python3.10/dist-packages (from matplotlib>=3.0.3->-r requirements.txt (line 5)) (3.1.0)\n",
            "Requirement already satisfied: python-dateutil>=2.7 in /usr/local/lib/python3.10/dist-packages (from matplotlib>=3.0.3->-r requirements.txt (line 5)) (2.8.2)\n",
            "Requirement already satisfied: scipy>=1.4.1 in /usr/local/lib/python3.10/dist-packages (from scikit-image>=0.15.0->-r requirements.txt (line 6)) (1.10.1)\n",
            "Requirement already satisfied: networkx>=2.2 in /usr/local/lib/python3.10/dist-packages (from scikit-image>=0.15.0->-r requirements.txt (line 6)) (3.1)\n",
            "Requirement already satisfied: imageio>=2.4.1 in /usr/local/lib/python3.10/dist-packages (from scikit-image>=0.15.0->-r requirements.txt (line 6)) (2.25.1)\n",
            "Requirement already satisfied: tifffile>=2019.7.26 in /usr/local/lib/python3.10/dist-packages (from scikit-image>=0.15.0->-r requirements.txt (line 6)) (2023.7.10)\n",
            "Requirement already satisfied: PyWavelets>=1.1.1 in /usr/local/lib/python3.10/dist-packages (from scikit-image>=0.15.0->-r requirements.txt (line 6)) (1.4.1)\n",
            "Requirement already satisfied: six>=1.5 in /usr/local/lib/python3.10/dist-packages (from python-dateutil>=2.7->matplotlib>=3.0.3->-r requirements.txt (line 5)) (1.16.0)\n"
          ]
        }
      ],
      "source": [
        "!pip install -r requirements.txt"
      ]
    },
    {
      "cell_type": "code",
      "execution_count": null,
      "metadata": {
        "colab": {
          "base_uri": "https://localhost:8080/"
        },
        "id": "2TbPpUpy7Nqi",
        "outputId": "9d2428aa-c2a4-49d3-d820-6642cd8d6889"
      },
      "outputs": [
        {
          "name": "stdout",
          "output_type": "stream",
          "text": [
            "Requirement already satisfied: gym in /usr/local/lib/python3.10/dist-packages (0.25.2)\n",
            "Requirement already satisfied: numpy>=1.18.0 in /usr/local/lib/python3.10/dist-packages (from gym) (1.22.4)\n",
            "Requirement already satisfied: cloudpickle>=1.2.0 in /usr/local/lib/python3.10/dist-packages (from gym) (2.2.1)\n",
            "Requirement already satisfied: gym-notices>=0.0.4 in /usr/local/lib/python3.10/dist-packages (from gym) (0.0.8)\n"
          ]
        }
      ],
      "source": [
        "!pip install gym"
      ]
    },
    {
      "cell_type": "code",
      "execution_count": null,
      "metadata": {
        "id": "Mxd7dsO5rCjy"
      },
      "outputs": [],
      "source": [
        "import numpy as np\n",
        "import random\n",
        "from mazelab import BaseMaze\n",
        "from mazelab import Object\n",
        "from mazelab import DeepMindColor as color\n",
        "\n",
        "from mazelab import BaseEnv\n",
        "from mazelab import VonNeumannMotion\n",
        "\n",
        "from abc import ABC\n",
        "from abc import abstractmethod\n",
        "\n",
        "import gym\n",
        "from gym.utils import seeding\n",
        "from gym.spaces import Box\n",
        "from gym.spaces import Discrete\n",
        "\n",
        "import pygame\n",
        "import collections"
      ]
    },
    {
      "cell_type": "markdown",
      "metadata": {
        "id": "_e1N1QDClswO"
      },
      "source": [
        "# **FUNCTIONS**"
      ]
    },
    {
      "cell_type": "code",
      "execution_count": null,
      "metadata": {
        "id": "vhH3o7N2lorG"
      },
      "outputs": [],
      "source": [
        "trash_cans = {'plastic': [(16,1),(18,27),(2,28)], 'paper': [(18,7),(18,26),(7,28)], 'general': [(15,12),(1,20)], 'edible': [(1,1),(11,6),(12,28)]}\n",
        "fullness = {(16,1): 0, (18,27): 0, (2,28): 0, (18,7): 0, (18,26): 0, (7,28): 0, (15,12): 0, (1,20): 0, (1,1): 0, (11,6): 0, (12,28): 0}\n",
        "\n",
        "\n",
        "def update_fullness(coords):\n",
        "  fullness[coords] += 1\n",
        "\n",
        "\n",
        "def is_full(coords):\n",
        "  #string_coords = '(' + str(coords[0]) + ', ' + str(coords[1]) + ')'\n",
        "  n = fullness[coords]\n",
        "  if n == 3: return True\n",
        "  else: return False\n",
        "\n",
        "\n",
        "def random_closed(n):\n",
        "  doors = [(13,3), (2,7), (9,7), (13,9), (14,21), (12,22), (7,22), (2,22), (5,26)]\n",
        "  random_closed = random.sample(doors, n)\n",
        "  return random_closed\n",
        "\n",
        "def define_goals(trash_can):\n",
        "  goals = []\n",
        "  for i in trash_cans[trash_can]:\n",
        "    if not is_full(i):\n",
        "      goals.append(i)\n",
        "  return goals\n",
        "\n",
        "\n",
        "def generate_matrix(agent, goals, random_closed):\n",
        "  x = np.array([[1, 1, 1, 1, 1, 1 ,1, 1, 1, 1, 1, 3, 3, 3, 3, 3, 3, 3, 3, 1, 1, 1, 1, 1, 1, 1, 1, 1, 1, 1],\n",
        "                [1, 4, 0, 0, 0, 0, 0, 1, 0, 0, 1, 3, 3, 3, 3, 3, 3, 3, 3, 1, 5, 0, 1, 0, 0, 0, 0, 0, 0, 1],\n",
        "                [1, 0, 0, 0, 0, 0, 0, 0, 0, 0, 1, 3, 3, 3, 3, 3, 3, 3, 3, 1, 0, 0, 0, 0, 0, 0, 0, 0, 6, 1],\n",
        "                [1, 0, 0, 0, 0, 0, 0, 1, 0, 0, 1, 3, 3, 3, 3, 3, 3, 3, 3, 1, 0, 0, 1, 0, 0, 0, 0, 0, 0, 1],\n",
        "                [1, 0, 0, 0, 0, 0, 0, 1, 0, 0, 1, 3, 3, 3, 3, 3, 3, 3, 3, 1, 0, 0, 1, 0, 0, 0, 0, 0, 0, 1],\n",
        "                [1, 0, 0, 0, 0, 0, 0, 1, 0, 0, 1, 3, 3, 3, 3, 3, 3, 3, 3, 1, 0, 0, 1, 1, 1, 1, 0, 1, 1, 1],\n",
        "                [1, 1, 1, 1, 1, 1 ,1, 1, 0, 0, 1, 3, 3, 3, 3, 3, 3, 3, 3, 1, 0, 0, 1, 0, 0, 0, 0, 0, 0, 1],\n",
        "                [1, 0, 0, 0, 0, 0, 0, 1, 0, 0, 1, 3, 3, 3, 3, 3, 3, 3, 3, 1, 0, 0, 0, 0, 0, 0, 0, 0, 7, 1],\n",
        "                [1, 0, 0, 0, 0, 0, 0, 1, 0, 0, 1, 3, 3, 3, 3, 3, 3, 3, 3, 1, 0, 0, 1, 0, 0, 0, 0, 0, 0, 1],\n",
        "                [1, 0, 0, 0, 0, 0, 0, 0, 0, 0, 1, 3, 3, 3, 3, 3, 3, 3, 3, 1, 0, 0, 1, 1, 1, 1, 1, 1, 1, 1],\n",
        "                [1, 0, 0, 0, 0, 0, 0, 1, 0, 0, 1, 1, 1, 1 ,1, 1, 1, 1, 1, 1, 0, 0, 1, 0, 0, 0, 0, 0, 0, 1],\n",
        "                [1, 0, 0, 0, 0, 0, 4, 1, 0, 0, 0, 0, 0, 0, 0, 0, 0, 0, 0, 0, 0, 0, 1, 0, 0, 0, 0, 0, 0, 1],\n",
        "                [1, 0, 0, 0, 0, 0, 0, 1, 0, 0, 0, 0, 0, 0, 0, 0, 0, 0, 0, 0, 0, 0, 0, 0, 0, 0, 0, 0, 4, 1],\n",
        "                [1, 1, 1, 0, 1, 1, 1, 1, 1, 0, 1, 1, 0, 0, 0, 0, 0, 0, 0, 0, 0, 0, 1, 0, 0, 0, 0, 0, 0, 1],\n",
        "                [1, 0, 0, 0, 0, 1, 0, 0, 0, 0, 0, 1, 0, 0, 0, 0, 0, 0, 1, 1, 1, 0, 1, 1, 1, 1, 1, 1, 1, 1],\n",
        "                [1, 0, 0, 0, 0, 1, 0, 0, 0, 0, 0, 1, 5, 0, 0, 0, 0, 2, 1, 0, 0, 0, 0, 0, 0, 0, 0, 0, 0, 1],\n",
        "                [1, 6, 0, 0, 0, 1, 0, 0, 0, 0, 0, 1, 0, 0, 0, 0, 0, 0, 1, 0, 0, 0, 0, 0, 0, 0, 0, 0, 0, 1],\n",
        "                [1, 0, 0, 0, 0, 1, 0, 0, 0, 0, 0, 1, 0, 0, 0, 0, 0, 0, 1, 0, 0, 0, 0, 0, 0, 0, 0, 0, 0, 1],\n",
        "                [1, 0, 0, 0, 0, 1, 0, 7, 0, 0, 0, 1, 0, 0, 0, 0, 0, 0, 1, 0, 0, 0, 0, 0, 0, 0, 7, 6, 0, 1],\n",
        "                [1, 1, 1, 1, 1, 1 ,1, 1, 1, 1, 1, 1, 1, 9, 9, 9, 9, 1, 1, 1, 1, 1, 1, 1, 1, 1, 1, 1, 1, 1]], dtype=np.uint8)\n",
        "\n",
        "  x[agent[0], agent[1]] = 2\n",
        "  for i in goals:\n",
        "    x[i[0], i[1]] = 8\n",
        "  for i in random_closed:\n",
        "    x[i[0], i[1]] = 9\n",
        "\n",
        "  return x\n"
      ]
    },
    {
      "cell_type": "code",
      "execution_count": null,
      "metadata": {
        "id": "4y4qjRZFbM_f"
      },
      "outputs": [],
      "source": [
        "def plot(x, render_mode = \"human\", window_size_x=3000, window_size_y=2000):\n",
        "\n",
        "  pygame.init()\n",
        "  pygame.display.init()\n",
        "  window = pygame.display.set_mode((window_size_x, window_size_y))\n",
        "\n",
        "  canvas = pygame.Surface((window_size_y, window_size_x))\n",
        "  canvas.fill((255, 255, 255))\n",
        "  pix_square_size_x = (\n",
        "      window_size_x / 30\n",
        "  )  # The size of a single grid square in pixels\n",
        "  pix_square_size_y = (\n",
        "      window_size_y / 20\n",
        "  )  # The size of a single grid square in pixels\n",
        "\n",
        "  #print(pix_square_size_x, pix_square_size_y)\n",
        "\n",
        "  i = 0\n",
        "  for r in x:\n",
        "    j = 0\n",
        "    for c in r:\n",
        "      #print(c)\n",
        "      if c == 0:\n",
        "        pygame.draw.rect(canvas, (255, 255, 255),\n",
        "                          pygame.Rect((int(pix_square_size_x)*i, int(pix_square_size_y)*j),\n",
        "                          (pix_square_size_x, pix_square_size_y)))\n",
        "      elif c == 1:\n",
        "        pygame.draw.rect(canvas, (192, 192, 192),\n",
        "                          pygame.Rect((int(pix_square_size_x)*i, int(pix_square_size_y)*j),\n",
        "                          (pix_square_size_x, pix_square_size_y)))\n",
        "      elif c == 2:\n",
        "        pygame.draw.rect(canvas, (255, 0, 0),\n",
        "                          pygame.Rect((int(pix_square_size_x)*i, int(pix_square_size_y)*j),\n",
        "                          (pix_square_size_x-20, pix_square_size_y-20)))\n",
        "      elif c == 3:\n",
        "        pygame.draw.rect(canvas, (51, 175, 2),\n",
        "                        pygame.Rect((int(pix_square_size_x)*i, int(pix_square_size_y)*j),\n",
        "                          (pix_square_size_x, pix_square_size_y)))\n",
        "      elif c == 4:\n",
        "        pygame.draw.ellipse(canvas, (97, 255, 34), ((int(pix_square_size_x)*i, int(pix_square_size_y)*j), (pix_square_size_x, pix_square_size_y)))\n",
        "        '''\n",
        "        pygame.draw.rect(canvas, (97, 255, 34),\n",
        "                        pygame.Rect((int(pix_square_size_x)*i, int(pix_square_size_y)*j),\n",
        "                          (pix_square_size_x, pix_square_size_y)))\n",
        "        '''\n",
        "      elif c == 5:\n",
        "        pygame.draw.ellipse(canvas, (96, 96, 96), ((int(pix_square_size_x)*i, int(pix_square_size_y)*j), (pix_square_size_x, pix_square_size_y)))\n",
        "\n",
        "      elif c == 6:\n",
        "        pygame.draw.ellipse(canvas, (0, 0, 255), ((int(pix_square_size_x)*i, int(pix_square_size_y)*j), (pix_square_size_x, pix_square_size_y)))\n",
        "\n",
        "      elif c == 7:\n",
        "        pygame.draw.ellipse(canvas, (255, 190, 0), ((int(pix_square_size_x)*i, int(pix_square_size_y)*j), (pix_square_size_x, pix_square_size_y)))\n",
        "\n",
        "      elif c == 8:\n",
        "        if (i,j) in trash_cans['plastic']:\n",
        "          pygame.draw.ellipse(canvas, (0, 0, 255), ((int(pix_square_size_x)*i, int(pix_square_size_y)*j), (pix_square_size_x, pix_square_size_y)))\n",
        "\n",
        "        if (i,j) in trash_cans['paper']:\n",
        "          pygame.draw.ellipse(canvas, (255, 190, 0), ((int(pix_square_size_x)*i, int(pix_square_size_y)*j), (pix_square_size_x, pix_square_size_y)))\n",
        "\n",
        "        if (i,j) in trash_cans['general']:\n",
        "          pygame.draw.ellipse(canvas, (96, 96, 96), ((int(pix_square_size_x)*i, int(pix_square_size_y)*j), (pix_square_size_x, pix_square_size_y)))\n",
        "\n",
        "        if (i,j) in trash_cans['edible']:\n",
        "          pygame.draw.ellipse(canvas, (97, 255, 34), ((int(pix_square_size_x)*i, int(pix_square_size_y)*j), (pix_square_size_x, pix_square_size_y)))\n",
        "\n",
        "        pygame.draw.ellipse(canvas, (255, 0, 0), ((int(pix_square_size_x)*i, int(pix_square_size_y)*j), (pix_square_size_x, pix_square_size_y)), width= 15)\n",
        "\n",
        "      else:\n",
        "        pygame.draw.rect(canvas, (153, 76, 0),\n",
        "                        pygame.Rect((int(pix_square_size_x)*i, int(pix_square_size_y)*j),\n",
        "                          (pix_square_size_x, pix_square_size_y)))\n",
        "      #print(m[i][j])\n",
        "      j+=1\n",
        "    i+=1\n",
        "\n",
        "  return np.array(pygame.surfarray.pixels3d(canvas))"
      ]
    },
    {
      "cell_type": "code",
      "execution_count": null,
      "metadata": {
        "id": "__qNQ0UisCmT"
      },
      "outputs": [],
      "source": [
        "class Maze(BaseMaze):\n",
        "    @property\n",
        "    def size(self):\n",
        "        return x.shape\n",
        "\n",
        "    def make_objects(self):\n",
        "        free = Object('free', 0, [255, 255, 255], False, np.stack(np.where(x == 0), axis=1))\n",
        "        walls = Object('obstacle1', 1, [160, 160, 160], True, np.stack(np.where(x == 1), axis=1))\n",
        "        agent = Object('agent', 2, [255, 0, 0], False, [])\n",
        "        garden = Object('obstacle2', 1, [51, 175, 2], True, np.stack(np.where(x == 3), axis=1))\n",
        "        green = Object('obstacle3', 0, [97, 255, 34], False, np.stack(np.where(x == 4), axis=1))\n",
        "        black = Object('obstacle4', 0, [0, 0, 0], False, np.stack(np.where(x == 5), axis=1))\n",
        "        blue = Object('obstacle5', 0, [0, 0, 255], False, np.stack(np.where(x == 6), axis=1))\n",
        "        yellow = Object('obstacle6', 0, [255, 190, 0], False, np.stack(np.where(x == 7), axis=1))\n",
        "        goal = Object('goal', 8, [255, 0, 0], False, [])\n",
        "        door = Object('obstacle7', 1, [110, 89, 69], True, np.stack(np.where(x == 9), axis=1))\n",
        "\n",
        "        return free, walls, agent, garden, green, black, blue, yellow, goal, door\n",
        "\n",
        "\n",
        "class BaseEnv(gym.Env, ABC):\n",
        "    metadata = {'render.modes': ['human', 'rgb_array'],\n",
        "                'video.frames_per_second' : 3}\n",
        "    reward_range = (-float('inf'), float('inf'))\n",
        "\n",
        "    def __init__(self):\n",
        "        self.viewer = None\n",
        "        self.seed()\n",
        "\n",
        "    @abstractmethod\n",
        "    def step(self, action):\n",
        "        pass\n",
        "\n",
        "    def seed(self, seed=None):\n",
        "        self.np_random, seed = seeding.np_random(seed)\n",
        "        return [seed]\n",
        "\n",
        "    @abstractmethod\n",
        "    def reset(self):\n",
        "        pass\n",
        "\n",
        "    @abstractmethod\n",
        "    def get_image(self):\n",
        "        pass\n",
        "\n",
        "    def close(self):\n",
        "        if self.viewer is not None:\n",
        "            self.viewer.close()\n",
        "            self.viewer = None\n",
        "\n",
        "\n",
        "class Env(BaseEnv):\n",
        "    def __init__(self):\n",
        "        super().__init__()\n",
        "\n",
        "        self.maze = Maze()\n",
        "        self.motions = VonNeumannMotion()\n",
        "\n",
        "        self.observation_space = Box(low=0, high=len(self.maze.objects), shape=self.maze.size, dtype=np.uint8)\n",
        "        self.action_space = Discrete(len(self.motions))\n",
        "\n",
        "        self.window = None\n",
        "\n",
        "    def step(self, action):\n",
        "        motion = self.motions[action]\n",
        "        current_position = self.maze.objects.agent.positions[0]\n",
        "        new_position = [current_position[0] + motion[0], current_position[1] + motion[1]]\n",
        "        #print(current_position,new_position)\n",
        "        valid = self._is_valid(new_position)\n",
        "        if valid:\n",
        "            self.maze.objects.agent.positions = [new_position]\n",
        "            #print('------------------')\n",
        "\n",
        "        if self._is_goal(new_position):\n",
        "            #print('ARRIVATO AL GOAL!!')\n",
        "            reward = +1000\n",
        "            done = True\n",
        "        elif not valid:\n",
        "            reward = -100\n",
        "            done = False\n",
        "        else:\n",
        "            reward = -0.1\n",
        "            done = False\n",
        "        return [current_position, new_position], reward, done, {}  #self.maze.to_value()\n",
        "\n",
        "    def reset(self):\n",
        "        start_idx = np.stack(np.where(x == 2), axis=1)\n",
        "        goal_idx = np.stack(np.where(x == 8), axis=1)\n",
        "\n",
        "        self.maze.objects.agent.positions = start_idx\n",
        "        self.maze.objects.goal.positions = goal_idx\n",
        "        #print(start_idx, goal_idx)\n",
        "        return self.maze.to_value(), start_idx, goal_idx\n",
        "\n",
        "    def _is_valid(self, position):\n",
        "        nonnegative = position[0] >= 0 and position[1] >= 0\n",
        "        within_edge = position[0] < 20 and position[1] < 30\n",
        "        #print(self.maze.to_value()[position[0]][position[1]])\n",
        "        if self.maze.to_value()[position[0]][position[1]] == 1:\n",
        "          passable = False\n",
        "        else: passable = True\n",
        "        #passable = not self.maze.to_impassable()[position[0]][position[1]]\n",
        "        #print(position, passable)\n",
        "        return nonnegative and within_edge and passable\n",
        "\n",
        "    def _is_goal(self, position):\n",
        "        out = False\n",
        "        #print(self.maze.objects.goal.positions)\n",
        "        for pos in self.maze.objects.goal.positions:\n",
        "            #print(pos)\n",
        "            if position[0] == pos[0] and position[1] == pos[1]:\n",
        "                out = True\n",
        "                break\n",
        "        return out\n",
        "\n",
        "    def get_image(self):\n",
        "        return self.maze.to_rgb()\n"
      ]
    },
    {
      "cell_type": "markdown",
      "metadata": {
        "id": "I2xGnnV0mb75"
      },
      "source": [
        "# **TRAINING AGENT**"
      ]
    },
    {
      "cell_type": "code",
      "execution_count": null,
      "metadata": {
        "colab": {
          "base_uri": "https://localhost:8080/",
          "height": 778
        },
        "id": "1ToHuk9Xcbrd",
        "outputId": "55f1507e-641f-4787-8749-8a9ade3f51de"
      },
      "outputs": [
        {
          "name": "stdout",
          "output_type": "stream",
          "text": [
            "[(16, 1), (18, 27), (2, 28)]\n",
            "[[1 1 1 1 1 1 1 1 1 1 1 3 3 3 3 3 3 3 3 1 1 1 1 1 1 1 1 1 1 1]\n",
            " [1 4 0 0 0 0 0 1 0 0 1 3 3 3 3 3 3 3 3 1 5 0 1 0 0 0 0 0 0 1]\n",
            " [1 0 0 0 0 0 0 9 0 0 1 3 3 3 3 3 3 3 3 1 0 0 9 0 0 0 0 0 8 1]\n",
            " [1 0 0 0 0 0 0 1 0 0 1 3 3 3 3 3 3 3 3 1 0 0 1 0 0 0 0 0 0 1]\n",
            " [1 0 0 0 0 0 0 1 0 0 1 3 3 3 3 3 3 3 3 1 0 0 1 0 0 0 0 0 0 1]\n",
            " [1 0 0 0 0 0 0 1 0 0 1 3 3 3 3 3 3 3 3 1 0 0 1 1 1 1 9 1 1 1]\n",
            " [1 1 1 1 1 1 1 1 0 0 1 3 3 3 3 3 3 3 3 1 0 0 1 0 0 0 0 0 0 1]\n",
            " [1 0 0 0 0 0 0 1 0 0 1 3 3 3 3 3 3 3 3 1 0 0 0 0 0 0 0 0 7 1]\n",
            " [1 0 0 0 0 0 0 1 0 0 1 3 3 3 3 3 3 3 3 1 0 0 1 0 0 0 0 0 0 1]\n",
            " [1 0 0 0 0 0 0 0 0 0 1 3 3 3 3 3 3 3 3 1 0 0 1 1 1 1 1 1 1 1]\n",
            " [1 0 0 0 0 0 0 1 0 0 1 1 1 1 1 1 1 1 1 1 0 0 1 0 0 0 0 0 0 1]\n",
            " [1 0 0 0 0 0 4 1 0 0 0 0 0 0 0 0 0 0 0 0 0 0 1 0 0 0 0 0 0 1]\n",
            " [1 0 0 0 0 0 0 1 0 0 0 0 0 0 0 0 0 0 0 0 0 0 0 0 0 0 0 0 4 1]\n",
            " [1 1 1 0 1 1 1 1 1 0 1 1 0 0 0 0 0 0 0 0 0 0 1 0 0 0 0 0 0 1]\n",
            " [1 0 0 0 0 1 0 0 0 0 0 1 0 0 0 0 0 0 1 1 1 0 1 1 1 1 1 1 1 1]\n",
            " [1 0 0 0 0 1 0 0 0 0 0 1 5 0 0 0 0 2 1 0 0 0 0 0 0 0 0 0 0 1]\n",
            " [1 8 0 0 0 1 0 0 0 0 0 1 0 0 0 0 0 0 1 0 0 0 0 0 0 0 0 0 0 1]\n",
            " [1 0 0 0 0 1 0 0 0 0 0 1 0 0 0 0 0 0 1 0 0 0 0 0 0 0 0 0 0 1]\n",
            " [1 0 0 0 0 1 0 7 0 0 0 1 0 0 0 0 0 0 1 0 0 0 0 0 0 0 7 8 0 1]\n",
            " [1 1 1 1 1 1 1 1 1 1 1 1 1 9 9 9 9 1 1 1 1 1 1 1 1 1 1 1 1 1]]\n"
          ]
        },
        {
          "data": {
            "text/plain": [
              "<matplotlib.image.AxesImage at 0x7d4f6442db40>"
            ]
          },
          "execution_count": 465,
          "metadata": {},
          "output_type": "execute_result"
        },
        {
          "data": {
            "image/png": "[encoded data removed]",
            "text/plain": [
              "<Figure size 640x480 with 1 Axes>"
            ]
          },
          "metadata": {},
          "output_type": "display_data"
        }
      ],
      "source": [
        "import matplotlib.pyplot as plt\n",
        "\n",
        "goals = define_goals('plastic')\n",
        "doors_closed = random_closed(3)\n",
        "print(goals)\n",
        "\n",
        "x = generate_matrix((15,17), goals, doors_closed)\n",
        "print(x)\n",
        "\n",
        "img = plot(x, \"nn\", window_size_x=3000, window_size_y=2000)\n",
        "plt.imshow(img)"
      ]
    },
    {
      "cell_type": "code",
      "execution_count": null,
      "metadata": {
        "colab": {
          "base_uri": "https://localhost:8080/"
        },
        "id": "biHQtRVMtvBL",
        "outputId": "a463c729-46cb-4cf4-e4a8-2a567efeb40c"
      },
      "outputs": [
        {
          "name": "stderr",
          "output_type": "stream",
          "text": [
            "/usr/local/lib/python3.10/dist-packages/gym/envs/registration.py:542: UserWarning: \u001b[33mWARN: Overriding environment env\u001b[0m\n",
            "  logger.warn(f\"Overriding environment {spec.id}\")\n"
          ]
        }
      ],
      "source": [
        "gym.envs.register(id='env', entry_point=Env, max_episode_steps=200)"
      ]
    },
    {
      "cell_type": "code",
      "execution_count": null,
      "metadata": {
        "colab": {
          "base_uri": "https://localhost:8080/"
        },
        "id": "0G23Xp8Omxyh",
        "outputId": "86a6c685-f20c-4942-9d73-b478555a0a46"
      },
      "outputs": [
        {
          "name": "stderr",
          "output_type": "stream",
          "text": [
            "/usr/local/lib/python3.10/dist-packages/gym/utils/passive_env_checker.py:31: UserWarning: \u001b[33mWARN: A Box observation space has an unconventional shape (neither an image, nor a 1D vector). We recommend flattening the observation to have only a 1D vector or use a custom policy to properly process the data. Actual observation shape: (20, 30)\u001b[0m\n",
            "  logger.warn(\n",
            "/usr/local/lib/python3.10/dist-packages/gym/core.py:317: DeprecationWarning: \u001b[33mWARN: Initializing wrapper in old step API which returns one bool instead of two. It is recommended to set `new_step_api=True` to use new step API. This will be the default behaviour in future.\u001b[0m\n",
            "  deprecation(\n",
            "/usr/local/lib/python3.10/dist-packages/gym/wrappers/step_api_compatibility.py:39: DeprecationWarning: \u001b[33mWARN: Initializing environment in old step API which returns one bool instead of two. It is recommended to set `new_step_api=True` to use new step API. This will be the default behaviour in future.\u001b[0m\n",
            "  deprecation(\n"
          ]
        }
      ],
      "source": [
        "env = gym.make('env')\n",
        "#env.reset()"
      ]
    },
    {
      "cell_type": "code",
      "execution_count": null,
      "metadata": {
        "colab": {
          "base_uri": "https://localhost:8080/"
        },
        "id": "5ezqah8ST4mz",
        "outputId": "83edb911-7227-4851-c79d-20117ab8eeeb"
      },
      "outputs": [
        {
          "name": "stdout",
          "output_type": "stream",
          "text": [
            "Action Space Discrete(4)\n",
            "State Space Box(0, 10, (20, 30), uint8)\n"
          ]
        }
      ],
      "source": [
        "print(\"Action Space {}\".format(env.action_space))\n",
        "print(\"State Space {}\".format(env.observation_space))"
      ]
    },
    {
      "cell_type": "code",
      "execution_count": null,
      "metadata": {
        "colab": {
          "base_uri": "https://localhost:8080/"
        },
        "id": "SEUUsVlrVHsG",
        "outputId": "a65d9aae-7413-426c-f77d-7834b8032238"
      },
      "outputs": [
        {
          "name": "stderr",
          "output_type": "stream",
          "text": [
            "/usr/local/lib/python3.10/dist-packages/gym/utils/passive_env_checker.py:174: UserWarning: \u001b[33mWARN: Future gym versions will require that `Env.reset` can be passed a `seed` instead of using `Env.seed` for resetting the environment random number generator.\u001b[0m\n",
            "  logger.warn(\n",
            "/usr/local/lib/python3.10/dist-packages/gym/utils/passive_env_checker.py:190: UserWarning: \u001b[33mWARN: Future gym versions will require that `Env.reset` can be passed `return_info` to return information from the environment resetting.\u001b[0m\n",
            "  logger.warn(\n",
            "/usr/local/lib/python3.10/dist-packages/gym/utils/passive_env_checker.py:195: UserWarning: \u001b[33mWARN: Future gym versions will require that `Env.reset` can be passed `options` to allow the environment initialisation to be passed additional information.\u001b[0m\n",
            "  logger.warn(\n",
            "/usr/local/lib/python3.10/dist-packages/gym/utils/passive_env_checker.py:137: UserWarning: \u001b[33mWARN: The obs returned by the `reset()` method was expecting a numpy array, actual type: <class 'tuple'>\u001b[0m\n",
            "  logger.warn(\n",
            "/usr/local/lib/python3.10/dist-packages/gym/spaces/box.py:226: UserWarning: \u001b[33mWARN: Casting input x to numpy array.\u001b[0m\n",
            "  logger.warn(\"Casting input x to numpy array.\")\n",
            "/usr/local/lib/python3.10/dist-packages/gym/utils/passive_env_checker.py:167: UserWarning: \u001b[33mWARN: The obs returned by the `reset()` method is not within the observation space with exception: setting an array element with a sequence. The requested array has an inhomogeneous shape after 1 dimensions. The detected shape was (3,) + inhomogeneous part.\u001b[0m\n",
            "  logger.warn(f\"{pre} is not within the observation space with exception: {e}\")\n",
            "/usr/local/lib/python3.10/dist-packages/gym/utils/passive_env_checker.py:227: DeprecationWarning: \u001b[33mWARN: Core environment is written in old step API which returns one bool instead of two. It is recommended to rewrite the environment with new step API. \u001b[0m\n",
            "  logger.deprecation(\n",
            "/usr/local/lib/python3.10/dist-packages/gym/utils/passive_env_checker.py:137: UserWarning: \u001b[33mWARN: The obs returned by the `step()` method was expecting a numpy array, actual type: <class 'list'>\u001b[0m\n",
            "  logger.warn(\n",
            "/usr/local/lib/python3.10/dist-packages/gym/utils/passive_env_checker.py:165: UserWarning: \u001b[33mWARN: The obs returned by the `step()` method is not within the observation space.\u001b[0m\n",
            "  logger.warn(f\"{pre} is not within the observation space.\")\n"
          ]
        },
        {
          "name": "stdout",
          "output_type": "stream",
          "text": [
            "[0.5, 0.18405011753384512, 0.06774889152844442, 0.02493838289719584, 0.009179824606665854, 0.003379095595593868, 0.0012438458830543, 0.00045785996194026634, 0.0001685383596182958, 6.203900979341758e-05, 2.2836574088323754e-05, 8.406148290052701e-06, 3.094305161582263e-06, 1.1390144573495987e-06, 4.192714894958843e-07, 1.543339338406157e-07, 5.6810357325652016e-08, 2.0911905885851992e-08, 7.697677472295523e-09, 2.833516887027252e-09, 1.043018232183e-09, 3.8393525644644977e-10, 1.413266581487119e-10, 5.202237608587188e-11, 1.914944886598927e-11, 7.048916628987354e-12, 2.594707868102801e-12, 9.551125761806253e-13, 3.5157716380819485e-13, 1.2941563664222865e-13, 4.7637926269439084e-14, 1.7535531857917862e-14, 6.4548333989365265e-15, 2.3760256914713187e-15, 8.746156155574624e-16, 3.2194621368057405e-16, 1.1850847693497197e-16, 4.3622998217277383e-17, 1.6057635898137215e-17, 5.910819548735682e-18, 2.1757740653323004e-18, 8.009029449030026e-19, 2.9481256228520233e-19, 1.0852057347809089e-19, 3.994644860696575e-20, 1.4704297122343482e-20, 5.412655227239789e-21, 1.99239966148734e-21, 7.334027837422753e-22, 2.6996573709482956e-22, 9.937445128482889e-23, 3.657975887766819e-23, 1.3465017841589168e-23, 4.956476232679609e-24, 1.8244800663567812e-24, 6.7159154130224535e-25, 2.4721300422282857e-25, 9.099916496621361e-26, 3.349681401502671e-26, 1.2330185112950015e-26, 4.538744038505029e-27, 1.6707127474857765e-27, 6.149897550801045e-28, 2.263778734092074e-28, 8.332974841605294e-29, 3.0673699980080536e-29, 1.1290996173063516e-29, 4.1562183454530355e-30, 1.5299049499539178e-30, 5.631583717092632e-31, 2.072987290065157e-31, 7.630671087653229e-32, 2.808851821089357e-32, 1.0339390156133081e-32, 3.805931946929171e-33, 1.400964444316248e-33, 5.1569534127428985e-34, 1.8982757634637724e-34, 6.987557547543178e-35, 2.5721215757996713e-35, 9.467985566745288e-36, 3.485167712736459e-36, 1.282891054308604e-36, 4.722324986572368e-37, 1.7382889376233257e-37, 6.398645665547063e-38, 2.355342973602745e-38, 8.670023022481955e-39, 3.191437512617912e-39, 1.1747688985985049e-39, 4.324327077243175e-40, 1.5917858136427999e-40, 5.859367321793242e-41, 2.1568344885000474e-41, 7.939312822189734e-42, 2.922462916123943e-42, 1.0757592864018373e-42, 3.959872462007636e-43, 1.4576299841030926e-43, 5.36553939790065e-44, 1.9750563136321657e-44, 7.270186933199302e-45, 2.67615751909669e-45, 9.85094211857664e-46, 3.626134109486292e-46, 1.3347808180888626e-46, 4.91333132902357e-47, 1.8085984171790076e-47, 6.65745502506649e-48, 2.4506107596795647e-48, 9.02070396697451e-49, 3.320523250719382e-49, 1.222285389137525e-49, 4.499235390613288e-50, 1.656169604909632e-50, 6.09636420879194e-51, 2.2440730983145793e-51, 8.260438349986696e-52, 3.0406692983922836e-52, 1.1192710835013147e-52, 4.1200394894129876e-53, 1.516587504541096e-53, 5.582562169222945e-54, 2.0549424467709722e-54, 7.564247977069737e-55, 2.784401458469647e-55, 1.0249388313855025e-55, 3.77280224763004e-56, 1.3887693942165358e-56, 5.112063404659235e-57, 1.8817517409359854e-57, 6.926732581775657e-58, 2.549731891602699e-58, 9.38556908658532e-59, 3.4548301870160736e-59, 1.2717238039595942e-59, 4.6812183117869995e-60, 1.7231575609719558e-60, 6.342947032524573e-61, 2.334840293694184e-61, 8.594552609543368e-62, 3.1636568358745173e-62, 1.164542824958938e-62, 4.2866848761377354e-63, 1.5779297105673995e-63, 5.808362973801638e-64, 2.138059776014833e-64, 7.870203061398264e-65, 2.8970235969312144e-65, 1.0663950670270164e-65, 3.9254027484766675e-66, 1.4449416744496064e-66, 5.318833700240126e-67, 1.9578639353443265e-67, 7.206901748307936e-68, 2.652862227661952e-68, 9.765192096045526e-69, 3.5945695060354784e-69, 1.323161880138837e-69, 4.8705619911170876e-70, 1.7928550138419422e-70, 6.599503520375004e-71, 2.4292787971801366e-71, 8.942180962869565e-72, 3.291618914450083e-72, 1.2116456961623552e-72, 4.4600706557611434e-73, 1.6417530568041704e-73, 6.0432968613272615e-74, 2.2245389952383805e-74, 8.188533270644845e-75, 3.014201021783944e-75, 1.109528104659964e-75, 4.084175561395381e-76, 1.5033859842073428e-76, 5.533967341842048e-77, 2.0370546793889614e-77, 7.498403063288087e-78, 2.760163930228688e-78, 1.0160169915425313e-78, 3.7399609341957004e-79, 1.376680499021404e-79, 5.06756415302894e-80, 1.8653715559505376e-80, 6.866437082339702e-81, 2.5275371040867997e-81, 9.303870021566521e-82, 3.424756741977844e-82, 1.2606537617717264e-82, 4.640469460471365e-83, 1.7081578992239326e-83, 6.287733242370562e-84, 2.3145160845595803e-84, 8.519739147943242e-85, 3.136117983073284e-85, 1.1544057667693094e-85, 4.2493703411127635e-86, 1.5641942214532662e-86, 5.7578026060848145e-87, 2.119448492773162e-87, 7.801694884036559e-88, 2.8718057207402296e-88, 1.0571123608732371e-88, 3.891233085303963e-89, 1.4323638134035501e-89, 5.272534564163105e-90, 1.9408212124709442e-90, 7.144167445349081e-91, 2.6297697159959894e-91, 9.680188506320084e-92, 3.563279664675946e-92, 1.3116440821791251e-92, 4.828164949752903e-93, 1.7772486529496115e-93, 6.542056469244823e-94, 2.4081325241551707e-94, 8.864341482156611e-95, 3.2629661833020986e-95, 1.2010986190914504e-95, 4.421246840270373e-96, 1.6274620011957933e-96, 5.990691452039e-97, 2.2051749317136023e-97, 8.117254107291479e-98, 2.9879631449981424e-98, 1.0998699360474331e-98, 4.048623820029421e-99, 1.4902993798534673e-99, 5.485795520453052e-100, 2.0193226206120334e-100, 7.433131313247875e-101, 2.7361373836955287e-101, 1.007172814115839e-101, 3.707405496298243e-102, 1.3646968346786185e-102, 5.023452256413423e-103, 1.8491339564370842e-103, 6.80666644036133e-104, 2.505535516724414e-104, 9.222882126766956e-105, 3.3949450788644867e-105, 1.2496800815719051e-105, 4.600075317860378e-106, 1.6932888058334705e-106, 6.233000074647837e-107, 2.2943687926548453e-107, 8.44557691908214e-108, 3.1088188491963687e-108, 1.1443569491720724e-108, 4.212380619915811e-109, 1.5505782963855798e-109, 5.707682353903856e-110, 2.100999216163759e-110, 7.733783053469062e-111, 2.8468073599444563e-111, 1.047910458388006e-111, 3.8573608606251276e-112, 1.4198954395370054e-112, 5.226638450651234e-113, 1.9239268422984766e-113, 7.081979229031224e-114, 2.6068782189509453e-114, 9.595924851886492e-115, 3.5322621936713787e-115, 1.3002265438111755e-115, 4.786136964181265e-116, 1.76177814158132e-116, 6.485109480532153e-117, 2.387170324223504e-117, 8.787179574933036e-118, 3.2345628671149214e-118, 1.1906433517261809e-118, 4.3827609765219846e-119, 1.6132953457032743e-119, 5.9385439598696395e-120, 2.1859794275878698e-120, 8.04659541148246e-121, 2.9619536624611817e-121, 1.0902958394115887e-121, 4.013381547807156e-122, 1.4773266911641741e-122, 5.438043022893164e-123, 2.0017449150351124e-123, 7.368427737699932e-124, 2.712319982326688e-124, 9.984056230732105e-125, 3.6751334454615985e-125, 1.3528174851795718e-125, 4.979724342982635e-126, 1.8330377012242438e-126, 6.747416087085962e-127, 2.4837254477557656e-127, 9.142599211625197e-128, 3.365392918928981e-128, 1.2388019245528526e-128, 4.560032796302212e-129, 1.6785491442352545e-129, 6.178743345656446e-130, 2.2743968779591103e-130, 8.372060254139383e-131, 3.0817573475496347e-131, 1.1343956040546248e-131, 4.1757128851224646e-132, 1.537080894588793e-132, 5.657998386162015e-133, 2.082710535958773e-133, 7.666462378643947e-134, 2.8220266037164965e-134, 1.0387886561952797e-134, 3.8237834853114013e-135, 1.4075355997911066e-135, 5.181141851492296e-136, 1.9071795334534e-136, 7.020332345804983e-137, 2.5841859867440285e-137, 9.512394691791268e-138, 3.501514722105085e-138, 1.288908392299812e-138, 4.74447482186289e-139, 1.746442297200403e-139, 6.428658201316381e-140, 2.3663905950744417e-140, 8.710689343088413e-141, 3.206406794792533e-141, 1.1802790948857942e-141, 4.344610122729255e-142, 1.599252007454137e-142, 5.886850398763551e-143, 2.1669510155931093e-143, 7.976551782200094e-144, 2.9361705860575166e-144, 1.0808050829265698e-144, 3.978446050876327e-145, 1.4644669265317292e-145, 5.3907061990516744e-146, 1.984320219051816e-146, 7.304287390825586e-147, 2.688709905564765e-147, 9.89714748267237e-148, 3.643142314871163e-148, 1.3410415424891512e-148, 4.9363770702580425e-149, 1.8170815599446745e-149, 6.688681493528133e-150, 2.462105230060664e-150, 9.063015139466866e-151, 3.336098003259855e-151, 1.2280184592088293e-151, 4.520338835022161e-152, 1.6639377877572998e-152, 6.124958908114867e-153, 2.2545988138569429e-153, 8.299183533640928e-154, 3.054931409603191e-154, 1.1245209699905632e-154, 4.139364333920816e-155, 1.5237009843470958e-155, 5.608746905110163e-156, 2.0645810542062722e-156, 7.599727713696005e-157, 2.797461557861995e-157, 1.0297462570418478e-157, 3.790498392771644e-158, 1.395283349402972e-158, 5.136041289012784e-159, 1.8905780058028988e-159, 6.95922208349866e-160, 2.5616912848241687e-160, 9.42959164114595e-161, 3.4710348996982208e-161, 1.2776887625070971e-161, 4.703175338221914e-162, 1.7312399475640845e-162, 6.37269831656928e-163, 2.3457917483445388e-163, 8.634864939854901e-164, 3.178495814138409e-164, 1.1700050563459747e-164, 4.3067913627134803e-165, 1.5853309130022716e-165, 5.835606817362237e-166, 2.1480882412336983e-166, 7.907117865442365e-167, 2.9106119449773255e-167, 1.071396941137002e-167, 3.9438146588332015e-168, 1.4517191029799328e-168, 5.343781430591804e-169, 1.9670472007511284e-169, 7.240705369857468e-170, 2.6653053487004744e-170, 9.810995253837805e-171, 3.611429659185761e-171, 1.3293681064767336e-171, 4.8934071248555786e-172, 1.8012643129412847e-172, 6.630458170127416e-173, 2.440673211030299e-173, 8.984123827036853e-174, 3.3070580926095686e-174, 1.2173288612720445e-174, 4.480990399889322e-175, 1.649453619535262e-175, 6.071642650841945e-176, 2.2349730870219784e-176, 8.226941187027213e-177, 3.0283389848328395e-177, 1.1147322921816409e-177, 4.1033321878959206e-178, 1.5104375429253383e-178, 5.559924146058925e-179, 2.0466093851227417e-179, 7.533573957554372e-180, 2.773110344675649e-180, 1.0207825697437124e-180, 3.757503038756689e-181, 1.383137751833925e-181, 5.091333315810456e-182, 1.8741209903578293e-182, 6.898643770960231e-183, 2.5393923937386244e-183, 9.347509370643108e-184, 3.4408203966310386e-184, 1.2665667968256137e-184, 4.6622353564044915e-185, 1.7161699306333266e-185, 6.3172255488224176e-186, 2.3253722094971967e-186, 8.559700569357607e-187, 3.15082779168964e-187, 1.159820450778791e-187, 4.2693018056797163e-188, 1.5715309982456492e-188, 5.7848092987039695e-189, 2.129389662674613e-189, 7.838288353812503e-190, 2.8852757855667783e-190, 1.0620706949022066e-190, 3.9094847245201515e-191, 1.4390822460894408e-191, 5.297265130672432e-192, 1.94992453981644e-192, 7.177676814706628e-193, 2.6421045227334724e-193, 9.725592958916181e-194, 3.5799930543495876e-194, 1.3177962848468077e-194, 4.850811222234485e-195, 1.785584751173438e-195, 6.572741666402387e-196, 2.419427752441969e-196, 8.905919244031494e-197, 3.2782709672219245e-197, 1.2067323136499987e-197, 4.441984483183258e-198, 1.6350955324268225e-198, 6.018790498444554e-199, 2.2155181973005393e-199, 8.1553276922309e-200, 3.001978040564298e-200, 1.1050288223997215e-200, 4.0676136928191854e-201, 1.4972895564912424e-201, 5.51152637708835e-202, 2.0287941549880372e-202, 7.46799605355025e-203, 2.748971102796485e-203, 1.0118969091336938e-203, 3.7247949011636815e-204, 1.3710978786973124e-204, 5.047014514493022e-205, 1.8578072291748574e-205, 6.838592777697329e-206, 2.5172876090026456e-206, 9.266141606068236e-207, 3.4108689033642906e-207, 1.2555416451134951e-207, 4.621651747035351e-208, 1.7012310944847476e-208, 6.26223565784312e-209, 2.3051304177012392e-209, 8.485190486175261e-210, 3.123400612555127e-210, 1.149724499692133e-210, 4.232138585997651e-211, 1.55785120834472e-211, 5.734453959921882e-212, 2.1108538506321337e-212, 7.770057986111989e-213, 2.860160171177464e-213, 1.0528256313416906e-213, 3.875453623821514e-214, 1.4265553899226596e-214, 5.25115374367622e-215, 1.9329509274237268e-215, 7.115196907589979e-216, 2.619105654236826e-216, 9.640934069916567e-217, 3.5488300974084627e-217, 1.3063251930713751e-217, 4.808586106444013e-218, 1.7700416761253058e-218, 6.515527570613094e-219, 2.3983672303327445e-219, 8.828395412641461e-220, 3.24973442666372e-220, 1.1962280063625048e-220, 4.403318103366012e-221, 1.6208624289267851e-221, 5.966398411003488e-222, 2.1962326575979215e-222, 8.08433757525103e-223, 2.975846561816525e-223, 1.0954098189300624e-223, 4.032206118435971e-224, 1.484256020037605e-224, 5.463549898765187e-225, 2.0111340020394463e-225, 7.402988989033175e-226, 2.725041987066843e-226, 1.0030885960085937e-226, 3.6923714798446907e-227, 1.3591628096881704e-227, 5.0030814974145937e-228, 1.8416354752610555e-228, 6.77906451352644e-229, 2.495375240968028e-229, 9.185482127823913e-230, 3.3811781304623096e-230, 1.2446124646288636e-230, 4.581421407980451e-231, 1.686422297221882e-231, 6.20772444030746e-232, 2.2850648257125373e-232, 8.411328994897601e-233, 3.096212180253372e-233, 1.1397164313706699e-233, 4.195298862980848e-234, 1.5442904976424067e-234, 5.684536951949493e-235, 2.0924793882637402e-235, 7.702421546941511e-236, 2.8352631820195076e-236, 1.0436610437802284e-236, 3.841718755464788e-237, 1.4141375769504907e-237, 5.205443744935695e-238, 1.9161250661423962e-238, 7.053260872660836e-239, 2.596306985220395e-239, 9.557012115674782e-240, 3.5179384063245214e-240, 1.2949539543218114e-240, 4.766728549876761e-241, 1.7546338997134414e-241, 6.458811509422319e-242, 2.3774900348764417e-242, 8.751546407090769e-243, 3.221446289655793e-243, 1.185815136480327e-243, 4.364988304852174e-244, 1.6067532210837448e-244, 5.914462383767403e-245, 2.1771149937637125e-245, 8.013965409737859e-246, 2.949942551149071e-246, 1.0858745465141148e-246, 3.9971067582585244e-247, 1.471335937305729e-247, 5.4159910438575924e-248, 1.9936275763684113e-248, 7.338547794986981e-249, 2.701321168390088e-249, 9.943569570776822e-250, 3.660230296415161e-250, 1.3473316325122526e-250, 4.959530906418767e-251, 1.825604492478363e-251, 6.72005442821892e-252, 2.473653614694966e-252, 9.105524770453286e-253, 3.351745808418407e-253, 1.2337784199659155e-253, 4.5415412641093184e-254, 1.6717424068881933e-254, 6.153687729481475e-255, 2.265173899755466e-255, 8.338110449691528e-256, 3.069260416551703e-256, 1.1297954808167253e-256, 4.158779820670354e-257, 1.5308478295834673e-257, 5.63505445922581e-258, 2.0742648710601803e-258, 7.635373866298764e-259, 2.81058291501417e-259, 1.0345762316940294e-259, 3.808277540820033e-260, 1.401827857978808e-260, 5.160131640464755e-261, 1.8994456698352323e-261, 6.991863975646295e-262, 2.573706772996914e-262, 9.473820681354355e-263, 3.487315619795555e-263, 1.2836816994020703e-263, 4.725235353019767e-264, 1.7393602441966722e-264, 6.402589147562393e-265, 2.3567945702594725e-265, 8.675366353187358e-266, 3.193404393906842e-266, 1.1754929080632601e-266, 4.326992157784729e-267, 1.592766830416733e-267, 5.862978446843977e-268, 2.1581637444799897e-268, 7.944205816577118e-269, 2.924264028508041e-269, 1.0764222762937612e-269, 3.962312929358621e-270, 1.4585283207086028e-270, 5.368846177057004e-271, 1.9762735398171049e-271, 7.274667545647058e-272, 2.6778068335918802e-272, 9.85701324911114e-273, 3.6283688940630143e-273, 1.3356034428168414e-273, 4.916359412581335e-274, 1.809713055448374e-274, 6.661558011155898e-275, 2.4521210698237295e-275, 9.026263422165176e-276, 3.3225696874817727e-276, 1.2230386829907774e-276, 4.50200826705818e-277, 1.65719030138074e-277, 6.100121394901242e-278, 2.2454561194047662e-278, 8.265529253870474e-279, 3.0425432613084798e-279, 1.1199608896913542e-279, 4.122578667619918e-280, 1.517522176635881e-280, 5.586002699401436e-281, 2.056208906738345e-281, 7.568909819186352e-282, 2.786117483648859e-282, 1.0255705006573087e-282, 3.775127423704302e-283, 1.389625292076144e-283, 5.1152139666921746e-284, 1.882911463560852e-284, 6.931001523484516e-285, 2.5513032900490752e-285, 9.391353407960014e-286, 3.4569593970741e-286, 1.27250756668239e-286, 4.68410334421185e-287, 1.7242195420858684e-287, 6.346856187500899e-288, 2.336279254559819e-288, 8.599849427873035e-289, 3.165606595946689e-289, 1.1652605320997638e-289, 4.2893267578105786e-290, 1.5789021878321492e-290, 5.811942664898831e-291, 2.139377461149362e-291, 7.875053463475694e-292, 2.898809031075924e-292, 1.067052285755473e-292, 3.927821972160913e-293, 1.4458321912564174e-293, 5.322111694699618e-294, 1.9590705658753602e-294, 7.211343358128864e-295, 2.6544971852809634e-295, 9.771210378885199e-296, 3.596784837363363e-296, 1.3239773441213093e-296, 4.873563715953875e-297, 1.7939599494599213e-297, 6.603570790981943e-298, 2.4307759604467733e-298, 8.947692024373147e-299, 3.293647537484931e-299, 1.2123924327784151e-299, 4.4628193950000704e-300, 1.6427648683641123e-300, 6.047021342058194e-301, 2.2259099774708787e-301, 8.193579859465173e-302, 3.016058672315254e-302, 1.1102119062571497e-302, 4.0866926366819023e-303, 1.5043125202121226e-303, 5.537377923053314e-304, 2.038310115134488e-304, 7.503024325219134e-305, 2.761865017831659e-305, 1.0166431622890267e-305, 3.742265870185794e-306, 1.3775289465011343e-306, 5.070687290195965e-307, 1.8665211834760273e-307, 6.870668863963237e-308, 2.5290948238970344e-308, 9.309603991850485e-309, 3.426867417787144e-309, 1.26143070203321e-309, 4.6433293794006e-310, 1.70921063605404e-310, 6.291608369117e-311, 2.315942519626e-311, 8.524989858775e-312, 3.138050770965e-312, 1.155117226447e-312, 4.25198922585e-313, 1.56515823354e-313, 5.761351137e-314, 2.120754708e-314, 7.80650306e-315, 2.87357561e-315, 1.057763856e-315, 3.89363126e-316, 1.4332466e-316, 5.275784e-317, 1.9420174e-317, 7.14857e-318, 2.631394e-318, 9.68616e-319, 3.56547e-319, 1.31244e-319, 4.831e-320, 1.7786e-320, 6.546e-321, 2.41e-321, 8.9e-322, 3.26e-322, 1.2e-322, 4.4e-323, 2e-323, 5e-324, 0.0, 0.0, 0.0, 0.0, 0.0, 0.0, 0.0, 0.0, 0.0, 0.0, 0.0, 0.0, 0.0, 0.0, 0.0, 0.0, 0.0, 0.0, 0.0, 0.0, 0.0, 0.0, 0.0, 0.0, 0.0, 0.0, 0.0, 0.0, 0.0, 0.0, 0.0, 0.0, 0.0, 0.0, 0.0, 0.0, 0.0, 0.0, 0.0, 0.0, 0.0, 0.0, 0.0, 0.0, 0.0, 0.0, 0.0, 0.0, 0.0, 0.0, 0.0, 0.0, 0.0, 0.0, 0.0, 0.0, 0.0, 0.0, 0.0, 0.0, 0.0, 0.0, 0.0, 0.0, 0.0, 0.0, 0.0, 0.0, 0.0, 0.0, 0.0, 0.0, 0.0, 0.0, 0.0, 0.0, 0.0, 0.0, 0.0, 0.0, 0.0, 0.0, 0.0, 0.0, 0.0, 0.0, 0.0, 0.0, 0.0, 0.0, 0.0, 0.0, 0.0, 0.0, 0.0, 0.0, 0.0, 0.0, 0.0, 0.0, 0.0, 0.0, 0.0, 0.0, 0.0, 0.0, 0.0, 0.0, 0.0, 0.0, 0.0, 0.0, 0.0, 0.0, 0.0, 0.0, 0.0, 0.0, 0.0, 0.0, 0.0, 0.0, 0.0, 0.0, 0.0, 0.0, 0.0, 0.0, 0.0, 0.0, 0.0, 0.0, 0.0, 0.0, 0.0, 0.0, 0.0, 0.0, 0.0, 0.0, 0.0, 0.0, 0.0, 0.0, 0.0, 0.0, 0.0, 0.0, 0.0, 0.0, 0.0, 0.0, 0.0, 0.0, 0.0, 0.0, 0.0, 0.0, 0.0, 0.0, 0.0, 0.0, 0.0, 0.0, 0.0, 0.0, 0.0, 0.0, 0.0, 0.0, 0.0, 0.0, 0.0, 0.0, 0.0, 0.0, 0.0, 0.0, 0.0, 0.0, 0.0, 0.0, 0.0, 0.0, 0.0, 0.0, 0.0, 0.0, 0.0, 0.0, 0.0, 0.0, 0.0, 0.0, 0.0, 0.0, 0.0, 0.0, 0.0, 0.0, 0.0, 0.0, 0.0, 0.0, 0.0, 0.0, 0.0, 0.0, 0.0, 0.0, 0.0, 0.0, 0.0, 0.0, 0.0, 0.0, 0.0, 0.0, 0.0, 0.0, 0.0, 0.0, 0.0, 0.0, 0.0, 0.0, 0.0, 0.0, 0.0, 0.0, 0.0, 0.0, 0.0, 0.0, 0.0, 0.0, 0.0, 0.0, 0.0, 0.0, 0.0, 0.0, 0.0, 0.0, 0.0, 0.0, 0.0, 0.0, 0.0, 0.0, 0.0, 0.0, 0.0, 0.0, 0.0]\n",
            "[467, 437, 407, 377, 407, 437, 467, 497, 467, 466, 465, 466, 467, 468, 497, 527, 497, 496, 526, 525, 555, 525, 495, 465, 495, 465, 435, 436, 466, 467, 437, 407, 406, 407, 408, 378, 348, 347, 317, 346, 316, 376, 406, 376, 346, 345, 344, 314, 314, 314, 314, 314, 314, 314, 314, 314, 314, 345, 315, 315, 375, 374, 373, 374, 344, 374, 404, 374, 375, 345, 344, 374, 344, 314, 343, 342, 312, 312, 312, 312, 343, 313, 313, 313, 313, 342, 341, 342, 341, 342, 372, 342, 372, 402, 372, 373, 343, 313, 313, 373, 403, 373, 372, 371, 372, 371, 372, 402, 401, 372, 373, 374, 404, 434, 404, 405, 375, 405, 435, 405, 406, 436, 406, 407, 377, 407, 437, 436, 435, 465, 464, 465, 464, 434, 464, 434, 433, 463, 433, 434, 435, 434, 435, 436, 437, 438, 467, 466, 436, 406, 405, 375, 376, 377, 376, 375, 376, 346, 347, 317, 346, 376, 406, 405, 404, 403, 433, 432, 433, 403, 402, 432, 402, 403, 373, 343, 344, 343, 342, 343, 373, 403, 404, 374, 404, 434, 404, 405, 375, 345, 346, 347, 377, 407, 406, 376, 375, 376, 377, 376, 346]\n",
            "[467, 497, 527, 557, 556, 555, 554, 524, 523, 553, 554, 555, 525, 526, 527, 497, 467, 437, 407, 377, 347, 348, 347, 346, 345, 344, 374, 344, 343, 344, 345, 375, 345, 346, 347, 377, 407, 408, 378, 348, 349, 348, 378, 379, 409, 379, 380, 379, 378, 377, 378, 408, 409, 408, 378, 348, 349, 350, 320, 350, 349, 379, 349, 348, 347, 348, 378, 379, 380, 350, 351, 350, 380, 410, 380, 381, 380, 379, 409, 410, 411, 441, 411, 441, 471, 472, 471, 501, 502, 503, 533, 532, 502, 472, 473, 503, 504, 503, 502, 501, 471, 472, 502, 532, 531, 501, 531, 561, 560, 561, 531, 530, 560, 559, 529, 499, 469, 470, 469, 499, 529, 530, 529, 499, 500, 499, 469, 470, 471, 470, 469, 499, 529, 559, 560, 530, 500, 470, 500, 501, 502, 503, 473, 472, 473, 474, 473, 503, 504, 474, 475, 505, 535, 536, 506, 505, 506, 507, 537, 567]\n",
            "[467, 466, 467, 497, 496, 497, 527, 526, 527, 557, 527, 497, 496, 526, 525, 524, 523, 524, 525, 526, 556, 555, 556, 557, 556, 526, 496, 495, 496, 466, 436, 406, 405, 406, 407, 377, 407, 408, 378, 348, 347, 377, 378, 379, 349, 348, 349, 379, 380, 381, 351, 350, 349, 350, 380, 410, 380, 379, 409, 410, 411, 441, 471, 501, 531, 501, 502, 503, 502, 532, 531, 561, 560, 561, 531, 530, 560, 559, 529, 530, 529, 499, 500, 499, 469, 499, 529, 559, 560, 530, 500, 470, 500, 501, 500, 530, 531, 532, 533, 534, 564, 565, 535, 505, 504, 505, 475, 476, 506, 476, 475, 474, 504, 503, 504, 474, 473, 474, 475, 476, 477, 507, 506, 536, 566, 567]\n",
            "[467, 437, 407, 437, 436, 435, 434, 404, 403, 433, 434, 435, 405, 404, 405, 406, 407, 408, 409, 379, 380, 381, 411, 441, 471, 470, 471, 472, 502, 532, 502, 472, 473, 503, 504, 474, 475, 505, 535, 536, 537, 567]\n",
            "[467, 437, 407, 377, 378, 348, 378, 379, 349, 379, 409, 408, 378, 408, 409, 410, 411, 381, 411, 441, 471, 501, 471, 470, 500, 501, 531, 501, 502, 532, 533, 563, 564, 565, 566, 567]\n",
            "[467, 437, 407, 408, 409, 379, 380, 410, 409, 410, 411, 381, 411, 441, 471, 472, 502, 472, 473, 503, 502, 503, 533, 563, 564, 565, 566, 567]\n",
            "[467, 437, 407, 408, 409, 410, 411, 441, 471, 501, 502, 532, 533, 563, 564, 565, 566, 567]\n",
            "Training finished.\n",
            "\n"
          ]
        }
      ],
      "source": [
        "q_table = np.zeros([600, 4])\n",
        "\n",
        "matrix = [[row * 30 + col for col in range(30)] for row in range(20)]\n",
        "\n",
        "\"\"\"Training the agent\"\"\"\n",
        "\n",
        "import random\n",
        "from IPython.display import clear_output\n",
        "\n",
        "# Hyperparameters\n",
        "alpha = 0.1\n",
        "gamma = 0.6\n",
        "eps_init = 0.5\n",
        "eps_min = 0.05\n",
        "eps_decay = 0.9994\n",
        "\n",
        "epochs = 1000\n",
        "\n",
        "\n",
        "# Generate exponentially decaying epsilon values\n",
        "epsilons = [eps_init * np.exp(-eps_decay * i) for i in range(epochs)]\n",
        "\n",
        "#print(epsilons)\n",
        "\n",
        "best_steps  = []\n",
        "\n",
        "for i in range(1, 1001):\n",
        "    world, agent, goal = env.reset()\n",
        "\n",
        "    state = matrix[agent[0][0]][agent[0][1]]\n",
        "    goal = matrix[goal[0][0]][goal[0][1]]\n",
        "\n",
        "    #print(state, goal)\n",
        "\n",
        "    epochs, penalties, reward, = 0, 0, 0\n",
        "    done = False\n",
        "\n",
        "    steps = []\n",
        "    steps.append(state)\n",
        "\n",
        "    while not done:\n",
        "        if random.uniform(0, 1) < epsilons[i-1]:\n",
        "            action = env.action_space.sample() # Explore action space\n",
        "            #print(state, action)\n",
        "        else:\n",
        "            action = np.argmax(q_table[state]) # Exploit learned values\n",
        "            #print(state, 'OLD'+ str(action))\n",
        "\n",
        "        pos, reward, done, info = env.step(action)\n",
        "\n",
        "        old_state = matrix[pos[0][0]][pos[0][1]]\n",
        "        new_state = matrix[pos[1][0]][pos[1][1]]\n",
        "        #print(old_state, new_state)\n",
        "\n",
        "        steps.append(new_state)\n",
        "\n",
        "        old_value = q_table[old_state, action]\n",
        "        #print(old_value)\n",
        "        next_max = np.max(q_table[new_state])\n",
        "\n",
        "        new_value = (1 - alpha) * old_value + alpha * (reward + gamma * next_max)\n",
        "        q_table[old_state, action] = new_value\n",
        "\n",
        "        if reward == -10:\n",
        "            penalties += 1\n",
        "\n",
        "        state = new_state\n",
        "        epochs += 1\n",
        "\n",
        "    if i == 1:\n",
        "      best_steps = steps\n",
        "      print(best_steps)\n",
        "    else:\n",
        "      if len(steps) < len(best_steps):\n",
        "        best_steps = steps\n",
        "        print(best_steps)\n",
        "\n",
        "print(\"Training finished.\\n\")\n"
      ]
    },
    {
      "cell_type": "code",
      "execution_count": null,
      "metadata": {
        "id": "ecgDdDwZiDGI"
      },
      "outputs": [],
      "source": [
        "def find_value(matrix, value):\n",
        "    rows = len(matrix)\n",
        "    cols = len(matrix[0])\n",
        "\n",
        "    for i in range(rows):\n",
        "        for j in range(cols):\n",
        "            if matrix[i][j] == value:\n",
        "                return i, j\n",
        "\n",
        "    # Value not found\n",
        "    return -1, -1"
      ]
    },
    {
      "cell_type": "code",
      "execution_count": null,
      "metadata": {
        "colab": {
          "base_uri": "https://localhost:8080/"
        },
        "id": "dfEatML5iD9j",
        "outputId": "2a0b3972-b4ad-4c69-97a5-83e11cae02c0"
      },
      "outputs": [
        {
          "name": "stdout",
          "output_type": "stream",
          "text": [
            "18 27\n",
            "{(16, 1): 0, (18, 27): 2, (2, 28): 1, (18, 7): 0, (18, 26): 0, (7, 28): 0, (15, 12): 0, (1, 20): 0, (1, 1): 0, (11, 6): 0, (12, 28): 0}\n"
          ]
        }
      ],
      "source": [
        "i,j = find_value(matrix, best_steps[-1])\n",
        "\n",
        "print(i,j)\n",
        "\n",
        "update_fullness((i,j))\n",
        "print(fullness)\n"
      ]
    },
    {
      "cell_type": "code",
      "execution_count": null,
      "metadata": {
        "colab": {
          "base_uri": "https://localhost:8080/",
          "height": 431
        },
        "id": "MLdHKcXyptDy",
        "outputId": "90fbec06-aaa5-4bf5-dc82-6d89d9f291ea"
      },
      "outputs": [
        {
          "name": "stdout",
          "output_type": "stream",
          "text": [
            "[467, 437, 407, 408, 409, 410, 411, 441, 471, 501, 502, 532, 533, 563, 564, 565, 566, 567]\n"
          ]
        },
        {
          "data": {
            "text/plain": [
              "<matplotlib.image.AxesImage at 0x7d4f6c0dc820>"
            ]
          },
          "execution_count": 472,
          "metadata": {},
          "output_type": "execute_result"
        },
        {
          "data": {
            "image/png": "[encoded data removed]",
            "text/plain": [
              "<Figure size 640x480 with 1 Axes>"
            ]
          },
          "metadata": {},
          "output_type": "display_data"
        }
      ],
      "source": [
        "print(best_steps)\n",
        "\n",
        "for s in best_steps[:-1]:\n",
        "  i,j = find_value(matrix, s)\n",
        "  x[i,j] = 2\n",
        "\n",
        "img = plot(x, \"nn\", window_size_x=3000, window_size_y=2000)\n",
        "plt.imshow(img)\n"
      ]
    }
  ],
  "metadata": {
    "colab": {
      "collapsed_sections": [
        "5k1Xnpy5lfK4",
        "_e1N1QDClswO"
      ],
      "provenance": []
    },
    "kernelspec": {
      "display_name": "Python 3",
      "name": "python3"
    },
    "language_info": {
      "codemirror_mode": {
        "name": "ipython",
        "version": 3
      },
      "file_extension": ".py",
      "mimetype": "text/x-python",
      "name": "python",
      "nbconvert_exporter": "python",
      "pygments_lexer": "ipython3",
      "version": "3.10.4"
    }
  },
  "nbformat": 4,
  "nbformat_minor": 0
}
