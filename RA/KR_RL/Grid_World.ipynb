{
  "cells": [
    {
      "cell_type": "markdown",
      "metadata": {
        "id": "5k1Xnpy5lfK4"
      },
      "source": [
        "# **Import**"
      ]
    },
    {
      "cell_type": "code",
      "execution_count": 1,
      "metadata": {
        "colab": {
          "base_uri": "https://localhost:8080/"
        },
        "id": "pq2sJs18shq0",
        "outputId": "97a4e01c-3fb1-4133-bf72-75f692438fa8"
      },
      "outputs": [
        {
          "output_type": "stream",
          "name": "stdout",
          "text": [
            "Cloning into 'mazelab'...\n",
            "remote: Enumerating objects: 328, done.\u001b[K\n",
            "remote: Total 328 (delta 0), reused 0 (delta 0), pack-reused 328\u001b[K\n",
            "Receiving objects: 100% (328/328), 11.77 MiB | 18.98 MiB/s, done.\n",
            "Resolving deltas: 100% (113/113), done.\n",
            "/content/mazelab\n",
            "Obtaining file:///content/mazelab\n",
            "  Preparing metadata (setup.py) ... \u001b[?25l\u001b[?25hdone\n",
            "Requirement already satisfied: gym in /usr/local/lib/python3.10/dist-packages (from mazelab==0.2.0) (0.25.2)\n",
            "Requirement already satisfied: numpy in /usr/local/lib/python3.10/dist-packages (from mazelab==0.2.0) (1.22.4)\n",
            "Requirement already satisfied: matplotlib in /usr/local/lib/python3.10/dist-packages (from mazelab==0.2.0) (3.7.1)\n",
            "Requirement already satisfied: scikit-image in /usr/local/lib/python3.10/dist-packages (from mazelab==0.2.0) (0.19.3)\n",
            "Requirement already satisfied: cloudpickle>=1.2.0 in /usr/local/lib/python3.10/dist-packages (from gym->mazelab==0.2.0) (2.2.1)\n",
            "Requirement already satisfied: gym-notices>=0.0.4 in /usr/local/lib/python3.10/dist-packages (from gym->mazelab==0.2.0) (0.0.8)\n",
            "Requirement already satisfied: contourpy>=1.0.1 in /usr/local/lib/python3.10/dist-packages (from matplotlib->mazelab==0.2.0) (1.1.0)\n",
            "Requirement already satisfied: cycler>=0.10 in /usr/local/lib/python3.10/dist-packages (from matplotlib->mazelab==0.2.0) (0.11.0)\n",
            "Requirement already satisfied: fonttools>=4.22.0 in /usr/local/lib/python3.10/dist-packages (from matplotlib->mazelab==0.2.0) (4.41.0)\n",
            "Requirement already satisfied: kiwisolver>=1.0.1 in /usr/local/lib/python3.10/dist-packages (from matplotlib->mazelab==0.2.0) (1.4.4)\n",
            "Requirement already satisfied: packaging>=20.0 in /usr/local/lib/python3.10/dist-packages (from matplotlib->mazelab==0.2.0) (23.1)\n",
            "Requirement already satisfied: pillow>=6.2.0 in /usr/local/lib/python3.10/dist-packages (from matplotlib->mazelab==0.2.0) (8.4.0)\n",
            "Requirement already satisfied: pyparsing>=2.3.1 in /usr/local/lib/python3.10/dist-packages (from matplotlib->mazelab==0.2.0) (3.1.0)\n",
            "Requirement already satisfied: python-dateutil>=2.7 in /usr/local/lib/python3.10/dist-packages (from matplotlib->mazelab==0.2.0) (2.8.2)\n",
            "Requirement already satisfied: scipy>=1.4.1 in /usr/local/lib/python3.10/dist-packages (from scikit-image->mazelab==0.2.0) (1.10.1)\n",
            "Requirement already satisfied: networkx>=2.2 in /usr/local/lib/python3.10/dist-packages (from scikit-image->mazelab==0.2.0) (3.1)\n",
            "Requirement already satisfied: imageio>=2.4.1 in /usr/local/lib/python3.10/dist-packages (from scikit-image->mazelab==0.2.0) (2.25.1)\n",
            "Requirement already satisfied: tifffile>=2019.7.26 in /usr/local/lib/python3.10/dist-packages (from scikit-image->mazelab==0.2.0) (2023.7.10)\n",
            "Requirement already satisfied: PyWavelets>=1.1.1 in /usr/local/lib/python3.10/dist-packages (from scikit-image->mazelab==0.2.0) (1.4.1)\n",
            "Requirement already satisfied: six>=1.5 in /usr/local/lib/python3.10/dist-packages (from python-dateutil>=2.7->matplotlib->mazelab==0.2.0) (1.16.0)\n",
            "Installing collected packages: mazelab\n",
            "  Running setup.py develop for mazelab\n",
            "Successfully installed mazelab-0.2.0\n"
          ]
        }
      ],
      "source": [
        "!git clone https://github.com/zuoxingdong/mazelab.git\n",
        "%cd mazelab\n",
        "!pip install -e ."
      ]
    },
    {
      "cell_type": "code",
      "execution_count": 2,
      "metadata": {
        "colab": {
          "base_uri": "https://localhost:8080/"
        },
        "id": "JduEUU59sc5T",
        "outputId": "ffb87b1e-225c-4dc8-8c3d-87a9f6cbe463"
      },
      "outputs": [
        {
          "output_type": "stream",
          "name": "stdout",
          "text": [
            "Requirement already satisfied: gym>=0.12.1 in /usr/local/lib/python3.10/dist-packages (from -r requirements.txt (line 3)) (0.25.2)\n",
            "Requirement already satisfied: numpy>=1.16.2 in /usr/local/lib/python3.10/dist-packages (from -r requirements.txt (line 4)) (1.22.4)\n",
            "Requirement already satisfied: matplotlib>=3.0.3 in /usr/local/lib/python3.10/dist-packages (from -r requirements.txt (line 5)) (3.7.1)\n",
            "Requirement already satisfied: scikit-image>=0.15.0 in /usr/local/lib/python3.10/dist-packages (from -r requirements.txt (line 6)) (0.19.3)\n",
            "Requirement already satisfied: cloudpickle>=1.2.0 in /usr/local/lib/python3.10/dist-packages (from gym>=0.12.1->-r requirements.txt (line 3)) (2.2.1)\n",
            "Requirement already satisfied: gym-notices>=0.0.4 in /usr/local/lib/python3.10/dist-packages (from gym>=0.12.1->-r requirements.txt (line 3)) (0.0.8)\n",
            "Requirement already satisfied: contourpy>=1.0.1 in /usr/local/lib/python3.10/dist-packages (from matplotlib>=3.0.3->-r requirements.txt (line 5)) (1.1.0)\n",
            "Requirement already satisfied: cycler>=0.10 in /usr/local/lib/python3.10/dist-packages (from matplotlib>=3.0.3->-r requirements.txt (line 5)) (0.11.0)\n",
            "Requirement already satisfied: fonttools>=4.22.0 in /usr/local/lib/python3.10/dist-packages (from matplotlib>=3.0.3->-r requirements.txt (line 5)) (4.41.0)\n",
            "Requirement already satisfied: kiwisolver>=1.0.1 in /usr/local/lib/python3.10/dist-packages (from matplotlib>=3.0.3->-r requirements.txt (line 5)) (1.4.4)\n",
            "Requirement already satisfied: packaging>=20.0 in /usr/local/lib/python3.10/dist-packages (from matplotlib>=3.0.3->-r requirements.txt (line 5)) (23.1)\n",
            "Requirement already satisfied: pillow>=6.2.0 in /usr/local/lib/python3.10/dist-packages (from matplotlib>=3.0.3->-r requirements.txt (line 5)) (8.4.0)\n",
            "Requirement already satisfied: pyparsing>=2.3.1 in /usr/local/lib/python3.10/dist-packages (from matplotlib>=3.0.3->-r requirements.txt (line 5)) (3.1.0)\n",
            "Requirement already satisfied: python-dateutil>=2.7 in /usr/local/lib/python3.10/dist-packages (from matplotlib>=3.0.3->-r requirements.txt (line 5)) (2.8.2)\n",
            "Requirement already satisfied: scipy>=1.4.1 in /usr/local/lib/python3.10/dist-packages (from scikit-image>=0.15.0->-r requirements.txt (line 6)) (1.10.1)\n",
            "Requirement already satisfied: networkx>=2.2 in /usr/local/lib/python3.10/dist-packages (from scikit-image>=0.15.0->-r requirements.txt (line 6)) (3.1)\n",
            "Requirement already satisfied: imageio>=2.4.1 in /usr/local/lib/python3.10/dist-packages (from scikit-image>=0.15.0->-r requirements.txt (line 6)) (2.25.1)\n",
            "Requirement already satisfied: tifffile>=2019.7.26 in /usr/local/lib/python3.10/dist-packages (from scikit-image>=0.15.0->-r requirements.txt (line 6)) (2023.7.10)\n",
            "Requirement already satisfied: PyWavelets>=1.1.1 in /usr/local/lib/python3.10/dist-packages (from scikit-image>=0.15.0->-r requirements.txt (line 6)) (1.4.1)\n",
            "Requirement already satisfied: six>=1.5 in /usr/local/lib/python3.10/dist-packages (from python-dateutil>=2.7->matplotlib>=3.0.3->-r requirements.txt (line 5)) (1.16.0)\n"
          ]
        }
      ],
      "source": [
        "!pip install -r requirements.txt"
      ]
    },
    {
      "cell_type": "code",
      "execution_count": 3,
      "metadata": {
        "colab": {
          "base_uri": "https://localhost:8080/"
        },
        "id": "2TbPpUpy7Nqi",
        "outputId": "3e50c7bc-a13a-4eaf-a700-c617f19148d7"
      },
      "outputs": [
        {
          "output_type": "stream",
          "name": "stdout",
          "text": [
            "Requirement already satisfied: gym in /usr/local/lib/python3.10/dist-packages (0.25.2)\n",
            "Requirement already satisfied: numpy>=1.18.0 in /usr/local/lib/python3.10/dist-packages (from gym) (1.22.4)\n",
            "Requirement already satisfied: cloudpickle>=1.2.0 in /usr/local/lib/python3.10/dist-packages (from gym) (2.2.1)\n",
            "Requirement already satisfied: gym-notices>=0.0.4 in /usr/local/lib/python3.10/dist-packages (from gym) (0.0.8)\n"
          ]
        }
      ],
      "source": [
        "!pip install gym"
      ]
    },
    {
      "cell_type": "code",
      "execution_count": 4,
      "metadata": {
        "id": "Mxd7dsO5rCjy"
      },
      "outputs": [],
      "source": [
        "import numpy as np\n",
        "import random\n",
        "from mazelab import BaseMaze\n",
        "from mazelab import Object\n",
        "from mazelab import DeepMindColor as color\n",
        "\n",
        "from mazelab import BaseEnv\n",
        "from mazelab import VonNeumannMotion\n",
        "\n",
        "from abc import ABC\n",
        "from abc import abstractmethod\n",
        "\n",
        "import gym\n",
        "from gym.utils import seeding\n",
        "from gym.spaces import Box\n",
        "from gym.spaces import Discrete\n",
        "\n",
        "import pygame\n",
        "import collections"
      ]
    },
    {
      "cell_type": "markdown",
      "metadata": {
        "id": "_e1N1QDClswO"
      },
      "source": [
        "# **FUNCTIONS**"
      ]
    },
    {
      "cell_type": "code",
      "execution_count": 5,
      "metadata": {
        "id": "vhH3o7N2lorG",
        "colab": {
          "base_uri": "https://localhost:8080/"
        },
        "outputId": "9571d1ee-e90a-4028-99c3-d39ab20c6034"
      },
      "outputs": [
        {
          "output_type": "stream",
          "name": "stderr",
          "text": [
            "/usr/local/lib/python3.10/dist-packages/ipykernel/ipkernel.py:283: DeprecationWarning: `should_run_async` will not call `transform_cell` automatically in the future. Please pass the result to `transformed_cell` argument and any exception that happen during thetransform in `preprocessing_exc_tuple` in IPython 7.17 and above.\n",
            "  and should_run_async(code)\n"
          ]
        }
      ],
      "source": [
        "trash_cans = {'plastic': [(16,1),(18,27),(2,28)], 'paper': [(18,7),(18,26),(7,28)], 'general': [(15,12),(1,20)], 'edible': [(1,1),(11,6),(12,28)]}\n",
        "fullness = {(16,1): 0, (18,27): 0, (2,28): 0, (18,7): 0, (18,26): 0, (7,28): 0, (15,12): 0, (1,20): 0, (1,1): 0, (11,6): 0, (12,28): 0}\n",
        "\n",
        "\n",
        "def update_fullness(coords):\n",
        "  fullness[coords] += 1\n",
        "\n",
        "\n",
        "def is_full(coords):\n",
        "  #string_coords = '(' + str(coords[0]) + ', ' + str(coords[1]) + ')'\n",
        "  n = fullness[coords]\n",
        "  if n == 3: return True\n",
        "  else: return False\n",
        "\n",
        "\n",
        "def random_closed(n):\n",
        "  doors = [(13,3), (2,7), (9,7), (13,9), (14,21), (12,22), (7,22), (2,22), (5,26)]\n",
        "  random_closed = random.sample(doors, n)\n",
        "  return random_closed\n",
        "\n",
        "def define_goals(trash_can):\n",
        "  goals = []\n",
        "  for i in trash_cans[trash_can]:\n",
        "    if not is_full(i):\n",
        "      goals.append(i)\n",
        "  return goals\n",
        "\n",
        "\n",
        "def generate_matrix(agent, goals, random_closed):\n",
        "  x = np.array([[1, 1, 1, 1, 1, 1 ,1, 1, 1, 1, 1, 3, 3, 3, 3, 3, 3, 3, 3, 1, 1, 1, 1, 1, 1, 1, 1, 1, 1, 1],\n",
        "                [1, 4, 0, 0, 0, 0, 0, 1, 0, 0, 1, 3, 3, 3, 3, 3, 3, 3, 3, 1, 5, 0, 1, 0, 0, 0, 0, 0, 0, 1],\n",
        "                [1, 0, 0, 0, 0, 0, 0, 0, 0, 0, 1, 3, 3, 3, 3, 3, 3, 3, 3, 1, 0, 0, 0, 0, 0, 0, 0, 0, 6, 1],\n",
        "                [1, 0, 0, 0, 0, 0, 0, 1, 0, 0, 1, 3, 3, 3, 3, 3, 3, 3, 3, 1, 0, 0, 1, 0, 0, 0, 0, 0, 0, 1],\n",
        "                [1, 0, 0, 0, 0, 0, 0, 1, 0, 0, 1, 3, 3, 3, 3, 3, 3, 3, 3, 1, 0, 0, 1, 0, 0, 0, 0, 0, 0, 1],\n",
        "                [1, 0, 0, 0, 0, 0, 0, 1, 0, 0, 1, 3, 3, 3, 3, 3, 3, 3, 3, 1, 0, 0, 1, 1, 1, 1, 0, 1, 1, 1],\n",
        "                [1, 1, 1, 1, 1, 1 ,1, 1, 0, 0, 1, 3, 3, 3, 3, 3, 3, 3, 3, 1, 0, 0, 1, 0, 0, 0, 0, 0, 0, 1],\n",
        "                [1, 0, 0, 0, 0, 0, 0, 1, 0, 0, 1, 3, 3, 3, 3, 3, 3, 3, 3, 1, 0, 0, 0, 0, 0, 0, 0, 0, 7, 1],\n",
        "                [1, 0, 0, 0, 0, 0, 0, 1, 0, 0, 1, 3, 3, 3, 3, 3, 3, 3, 3, 1, 0, 0, 1, 0, 0, 0, 0, 0, 0, 1],\n",
        "                [1, 0, 0, 0, 0, 0, 0, 0, 0, 0, 1, 3, 3, 3, 3, 3, 3, 3, 3, 1, 0, 0, 1, 1, 1, 1, 1, 1, 1, 1],\n",
        "                [1, 0, 0, 0, 0, 0, 0, 1, 0, 0, 1, 1, 1, 1 ,1, 1, 1, 1, 1, 1, 0, 0, 1, 0, 0, 0, 0, 0, 0, 1],\n",
        "                [1, 0, 0, 0, 0, 0, 4, 1, 0, 0, 0, 0, 0, 0, 0, 0, 0, 0, 0, 0, 0, 0, 1, 0, 0, 0, 0, 0, 0, 1],\n",
        "                [1, 0, 0, 0, 0, 0, 0, 1, 0, 0, 0, 0, 0, 0, 0, 0, 0, 0, 0, 0, 0, 0, 0, 0, 0, 0, 0, 0, 4, 1],\n",
        "                [1, 1, 1, 0, 1, 1, 1, 1, 1, 0, 1, 1, 0, 0, 0, 0, 0, 0, 0, 0, 0, 0, 1, 0, 0, 0, 0, 0, 0, 1],\n",
        "                [1, 0, 0, 0, 0, 1, 0, 0, 0, 0, 0, 1, 0, 0, 0, 0, 0, 0, 1, 1, 1, 0, 1, 1, 1, 1, 1, 1, 1, 1],\n",
        "                [1, 0, 0, 0, 0, 1, 0, 0, 0, 0, 0, 1, 5, 0, 0, 0, 0, 2, 1, 0, 0, 0, 0, 0, 0, 0, 0, 0, 0, 1],\n",
        "                [1, 6, 0, 0, 0, 1, 0, 0, 0, 0, 0, 1, 0, 0, 0, 0, 0, 0, 1, 0, 0, 0, 0, 0, 0, 0, 0, 0, 0, 1],\n",
        "                [1, 0, 0, 0, 0, 1, 0, 0, 0, 0, 0, 1, 0, 0, 0, 0, 0, 0, 1, 0, 0, 0, 0, 0, 0, 0, 0, 0, 0, 1],\n",
        "                [1, 0, 0, 0, 0, 1, 0, 7, 0, 0, 0, 1, 0, 0, 0, 0, 0, 0, 1, 0, 0, 0, 0, 0, 0, 0, 7, 6, 0, 1],\n",
        "                [1, 1, 1, 1, 1, 1 ,1, 1, 1, 1, 1, 1, 1, 9, 9, 9, 9, 1, 1, 1, 1, 1, 1, 1, 1, 1, 1, 1, 1, 1]], dtype=np.uint8)\n",
        "\n",
        "  x[agent[0], agent[1]] = 2\n",
        "  for i in goals:\n",
        "    x[i[0], i[1]] = 8\n",
        "  for i in random_closed:\n",
        "    x[i[0], i[1]] = 9\n",
        "\n",
        "  return x\n"
      ]
    },
    {
      "cell_type": "code",
      "execution_count": 6,
      "metadata": {
        "id": "4y4qjRZFbM_f"
      },
      "outputs": [],
      "source": [
        "def plot(x, render_mode = \"human\", window_size_x=3000, window_size_y=2000):\n",
        "\n",
        "  pygame.init()\n",
        "  pygame.display.init()\n",
        "  window = pygame.display.set_mode((window_size_x, window_size_y))\n",
        "\n",
        "  canvas = pygame.Surface((window_size_y, window_size_x))\n",
        "  canvas.fill((255, 255, 255))\n",
        "  pix_square_size_x = (\n",
        "      window_size_x / 30\n",
        "  )  # The size of a single grid square in pixels\n",
        "  pix_square_size_y = (\n",
        "      window_size_y / 20\n",
        "  )  # The size of a single grid square in pixels\n",
        "\n",
        "  #print(pix_square_size_x, pix_square_size_y)\n",
        "\n",
        "  i = 0\n",
        "  for r in x:\n",
        "    j = 0\n",
        "    for c in r:\n",
        "      #print(c)\n",
        "      if c == 0:\n",
        "        pygame.draw.rect(canvas, (255, 255, 255),\n",
        "                          pygame.Rect((int(pix_square_size_x)*i, int(pix_square_size_y)*j),\n",
        "                          (pix_square_size_x, pix_square_size_y)))\n",
        "      elif c == 1:\n",
        "        pygame.draw.rect(canvas, (192, 192, 192),\n",
        "                          pygame.Rect((int(pix_square_size_x)*i, int(pix_square_size_y)*j),\n",
        "                          (pix_square_size_x, pix_square_size_y)))\n",
        "      elif c == 2:\n",
        "        pygame.draw.rect(canvas, (255, 0, 0),\n",
        "                          pygame.Rect((int(pix_square_size_x)*i, int(pix_square_size_y)*j),\n",
        "                          (pix_square_size_x-20, pix_square_size_y-20)))\n",
        "      elif c == 3:\n",
        "        pygame.draw.rect(canvas, (51, 175, 2),\n",
        "                        pygame.Rect((int(pix_square_size_x)*i, int(pix_square_size_y)*j),\n",
        "                          (pix_square_size_x, pix_square_size_y)))\n",
        "      elif c == 4:\n",
        "        pygame.draw.ellipse(canvas, (97, 255, 34), ((int(pix_square_size_x)*i, int(pix_square_size_y)*j), (pix_square_size_x, pix_square_size_y)))\n",
        "        '''\n",
        "        pygame.draw.rect(canvas, (97, 255, 34),\n",
        "                        pygame.Rect((int(pix_square_size_x)*i, int(pix_square_size_y)*j),\n",
        "                          (pix_square_size_x, pix_square_size_y)))\n",
        "        '''\n",
        "      elif c == 5:\n",
        "        pygame.draw.ellipse(canvas, (96, 96, 96), ((int(pix_square_size_x)*i, int(pix_square_size_y)*j), (pix_square_size_x, pix_square_size_y)))\n",
        "\n",
        "      elif c == 6:\n",
        "        pygame.draw.ellipse(canvas, (0, 0, 255), ((int(pix_square_size_x)*i, int(pix_square_size_y)*j), (pix_square_size_x, pix_square_size_y)))\n",
        "\n",
        "      elif c == 7:\n",
        "        pygame.draw.ellipse(canvas, (255, 190, 0), ((int(pix_square_size_x)*i, int(pix_square_size_y)*j), (pix_square_size_x, pix_square_size_y)))\n",
        "\n",
        "      elif c == 8:\n",
        "        if (i,j) in trash_cans['plastic']:\n",
        "          pygame.draw.ellipse(canvas, (0, 0, 255), ((int(pix_square_size_x)*i, int(pix_square_size_y)*j), (pix_square_size_x, pix_square_size_y)))\n",
        "\n",
        "        if (i,j) in trash_cans['paper']:\n",
        "          pygame.draw.ellipse(canvas, (255, 190, 0), ((int(pix_square_size_x)*i, int(pix_square_size_y)*j), (pix_square_size_x, pix_square_size_y)))\n",
        "\n",
        "        if (i,j) in trash_cans['general']:\n",
        "          pygame.draw.ellipse(canvas, (96, 96, 96), ((int(pix_square_size_x)*i, int(pix_square_size_y)*j), (pix_square_size_x, pix_square_size_y)))\n",
        "\n",
        "        if (i,j) in trash_cans['edible']:\n",
        "          pygame.draw.ellipse(canvas, (97, 255, 34), ((int(pix_square_size_x)*i, int(pix_square_size_y)*j), (pix_square_size_x, pix_square_size_y)))\n",
        "\n",
        "        pygame.draw.ellipse(canvas, (255, 0, 0), ((int(pix_square_size_x)*i, int(pix_square_size_y)*j), (pix_square_size_x, pix_square_size_y)), width= 15)\n",
        "\n",
        "      else:\n",
        "        pygame.draw.rect(canvas, (153, 76, 0),\n",
        "                        pygame.Rect((int(pix_square_size_x)*i, int(pix_square_size_y)*j),\n",
        "                          (pix_square_size_x, pix_square_size_y)))\n",
        "      #print(m[i][j])\n",
        "      j+=1\n",
        "    i+=1\n",
        "\n",
        "  return np.array(pygame.surfarray.pixels3d(canvas))"
      ]
    },
    {
      "cell_type": "code",
      "execution_count": 7,
      "metadata": {
        "id": "__qNQ0UisCmT"
      },
      "outputs": [],
      "source": [
        "class Maze(BaseMaze):\n",
        "    @property\n",
        "    def size(self):\n",
        "        return x.shape\n",
        "\n",
        "    def make_objects(self):\n",
        "        free = Object('free', 0, [255, 255, 255], False, np.stack(np.where(x == 0), axis=1))\n",
        "        walls = Object('obstacle1', 1, [160, 160, 160], True, np.stack(np.where(x == 1), axis=1))\n",
        "        agent = Object('agent', 2, [255, 0, 0], False, [])\n",
        "        garden = Object('obstacle2', 1, [51, 175, 2], True, np.stack(np.where(x == 3), axis=1))\n",
        "        green = Object('obstacle3', 0, [97, 255, 34], False, np.stack(np.where(x == 4), axis=1))\n",
        "        black = Object('obstacle4', 0, [0, 0, 0], False, np.stack(np.where(x == 5), axis=1))\n",
        "        blue = Object('obstacle5', 0, [0, 0, 255], False, np.stack(np.where(x == 6), axis=1))\n",
        "        yellow = Object('obstacle6', 0, [255, 190, 0], False, np.stack(np.where(x == 7), axis=1))\n",
        "        goal = Object('goal', 8, [255, 0, 0], False, [])\n",
        "        door = Object('obstacle7', 1, [110, 89, 69], True, np.stack(np.where(x == 9), axis=1))\n",
        "\n",
        "        return free, walls, agent, garden, green, black, blue, yellow, goal, door\n",
        "\n",
        "\n",
        "class BaseEnv(gym.Env, ABC):\n",
        "    metadata = {'render.modes': ['human', 'rgb_array'],\n",
        "                'video.frames_per_second' : 3}\n",
        "    reward_range = (-float('inf'), float('inf'))\n",
        "\n",
        "    def __init__(self):\n",
        "        self.viewer = None\n",
        "        self.seed()\n",
        "\n",
        "    @abstractmethod\n",
        "    def step(self, action):\n",
        "        pass\n",
        "\n",
        "    def seed(self, seed=None):\n",
        "        self.np_random, seed = seeding.np_random(seed)\n",
        "        return [seed]\n",
        "\n",
        "    @abstractmethod\n",
        "    def reset(self):\n",
        "        pass\n",
        "\n",
        "    @abstractmethod\n",
        "    def get_image(self):\n",
        "        pass\n",
        "\n",
        "    def close(self):\n",
        "        if self.viewer is not None:\n",
        "            self.viewer.close()\n",
        "            self.viewer = None\n",
        "\n",
        "\n",
        "class Env(BaseEnv):\n",
        "    def __init__(self):\n",
        "        super().__init__()\n",
        "\n",
        "        self.maze = Maze()\n",
        "        self.motions = VonNeumannMotion()\n",
        "\n",
        "        self.observation_space = Box(low=0, high=len(self.maze.objects), shape=self.maze.size, dtype=np.uint8)\n",
        "        self.action_space = Discrete(len(self.motions))\n",
        "\n",
        "        self.window = None\n",
        "\n",
        "    def step(self, action):\n",
        "        motion = self.motions[action]\n",
        "        current_position = self.maze.objects.agent.positions[0]\n",
        "        new_position = [current_position[0] + motion[0], current_position[1] + motion[1]]\n",
        "        #print(current_position,new_position)\n",
        "        valid = self._is_valid(new_position)\n",
        "        if valid:\n",
        "            self.maze.objects.agent.positions = [new_position]\n",
        "            #print('------------------')\n",
        "\n",
        "        if self._is_goal(new_position):\n",
        "            #print('ARRIVATO AL GOAL!!')\n",
        "            reward = +1000\n",
        "            done = True\n",
        "        elif not valid:\n",
        "            reward = -100\n",
        "            done = False\n",
        "        else:\n",
        "            reward = -0.1\n",
        "            done = False\n",
        "        return [current_position, new_position], reward, done, {}  #self.maze.to_value()\n",
        "\n",
        "    def reset(self):\n",
        "        start_idx = np.stack(np.where(x == 2), axis=1)\n",
        "        goal_idx = np.stack(np.where(x == 8), axis=1)\n",
        "\n",
        "        self.maze.objects.agent.positions = start_idx\n",
        "        self.maze.objects.goal.positions = goal_idx\n",
        "        #print(start_idx, goal_idx)\n",
        "        return self.maze.to_value(), start_idx, goal_idx\n",
        "\n",
        "    def _is_valid(self, position):\n",
        "        nonnegative = position[0] >= 0 and position[1] >= 0\n",
        "        within_edge = position[0] < 20 and position[1] < 30\n",
        "        #print(self.maze.to_value()[position[0]][position[1]])\n",
        "        if self.maze.to_value()[position[0]][position[1]] == 1:\n",
        "          passable = False\n",
        "        else: passable = True\n",
        "        #passable = not self.maze.to_impassable()[position[0]][position[1]]\n",
        "        #print(position, passable)\n",
        "        return nonnegative and within_edge and passable\n",
        "\n",
        "    def _is_goal(self, position):\n",
        "        out = False\n",
        "        #print(self.maze.objects.goal.positions)\n",
        "        for pos in self.maze.objects.goal.positions:\n",
        "            #print(pos)\n",
        "            if position[0] == pos[0] and position[1] == pos[1]:\n",
        "                out = True\n",
        "                break\n",
        "        return out\n",
        "\n",
        "    def get_image(self):\n",
        "        return self.maze.to_rgb()\n"
      ]
    },
    {
      "cell_type": "markdown",
      "metadata": {
        "id": "I2xGnnV0mb75"
      },
      "source": [
        "# **TRAINING AGENT**"
      ]
    },
    {
      "cell_type": "code",
      "execution_count": 76,
      "metadata": {
        "colab": {
          "base_uri": "https://localhost:8080/",
          "height": 795
        },
        "id": "1ToHuk9Xcbrd",
        "outputId": "a0bcc185-2d6c-4f8e-cffb-f7b58cde0060"
      },
      "outputs": [
        {
          "output_type": "stream",
          "name": "stdout",
          "text": [
            "[(9, 7), (13, 9), (13, 3)]\n",
            "[(18, 7), (18, 26), (7, 28)]\n",
            "[[1 1 1 1 1 1 1 1 1 1 1 3 3 3 3 3 3 3 3 1 1 1 1 1 1 1 1 1 1 1]\n",
            " [1 4 0 0 0 0 0 1 0 0 1 3 3 3 3 3 3 3 3 1 5 0 1 0 0 0 0 0 0 1]\n",
            " [1 0 0 0 0 0 0 0 0 0 1 3 3 3 3 3 3 3 3 1 0 0 0 0 0 0 0 0 6 1]\n",
            " [1 0 0 0 0 0 0 1 0 0 1 3 3 3 3 3 3 3 3 1 0 0 1 0 0 0 0 0 0 1]\n",
            " [1 0 0 0 0 0 0 1 0 0 1 3 3 3 3 3 3 3 3 1 0 0 1 0 0 0 0 0 0 1]\n",
            " [1 0 0 0 0 0 0 1 0 0 1 3 3 3 3 3 3 3 3 1 0 0 1 1 1 1 0 1 1 1]\n",
            " [1 1 1 1 1 1 1 1 0 0 1 3 3 3 3 3 3 3 3 1 0 0 1 0 0 0 0 0 0 1]\n",
            " [1 0 0 0 0 0 0 1 0 0 1 3 3 3 3 3 3 3 3 1 0 0 0 0 0 0 0 0 8 1]\n",
            " [1 0 0 0 0 0 0 1 0 0 1 3 3 3 3 3 3 3 3 1 0 0 1 0 0 0 0 0 0 1]\n",
            " [1 0 0 0 0 0 0 9 0 0 1 3 3 3 3 3 3 3 3 1 0 0 1 1 1 1 1 1 1 1]\n",
            " [1 0 0 0 0 0 0 1 0 0 1 1 1 1 1 1 1 1 1 1 0 0 1 0 0 0 0 0 0 1]\n",
            " [1 0 0 0 0 0 4 1 0 0 0 0 0 0 0 0 0 0 0 0 0 0 1 0 0 0 0 0 0 1]\n",
            " [1 0 0 0 0 0 0 1 0 0 0 0 0 0 0 0 0 0 0 0 0 0 0 0 0 0 0 0 4 1]\n",
            " [1 1 1 9 1 1 1 1 1 9 1 1 0 0 0 0 0 0 0 0 0 0 1 0 0 0 0 0 0 1]\n",
            " [1 0 0 0 0 1 0 0 0 0 0 1 0 0 0 0 0 0 1 1 1 0 1 1 1 1 1 1 1 1]\n",
            " [1 0 0 0 0 1 0 0 0 0 0 1 5 0 0 0 0 2 1 0 0 0 0 0 0 0 0 0 0 1]\n",
            " [1 6 0 0 0 1 0 0 0 0 0 1 0 0 0 0 0 0 1 0 0 0 0 0 0 0 0 0 0 1]\n",
            " [1 0 0 0 0 1 0 0 0 0 0 1 0 0 0 0 0 0 1 0 0 0 0 0 0 0 0 0 0 1]\n",
            " [1 0 0 0 0 1 0 8 0 0 0 1 0 0 0 0 0 0 1 0 0 0 0 0 0 0 8 6 0 1]\n",
            " [1 1 1 1 1 1 1 1 1 1 1 1 1 9 9 9 9 1 1 1 1 1 1 1 1 1 1 1 1 1]]\n"
          ]
        },
        {
          "output_type": "execute_result",
          "data": {
            "text/plain": [
              "<matplotlib.image.AxesImage at 0x799444a986d0>"
            ]
          },
          "metadata": {},
          "execution_count": 76
        },
        {
          "output_type": "display_data",
          "data": {
            "text/plain": [
              "<Figure size 640x480 with 1 Axes>"
            ],
            "image/png": "[encoded data removed]"
          },
          "metadata": {}
        }
      ],
      "source": [
        "import matplotlib.pyplot as plt\n",
        "\n",
        "goals = define_goals('paper')\n",
        "doors_closed = random_closed(3)\n",
        "print(doors_closed)\n",
        "print(goals)\n",
        "\n",
        "x = generate_matrix((15,17), goals, doors_closed)\n",
        "print(x)\n",
        "\n",
        "img = plot(x, \"nn\", window_size_x=3000, window_size_y=2000)\n",
        "plt.imshow(img)"
      ]
    },
    {
      "cell_type": "code",
      "execution_count": 77,
      "metadata": {
        "colab": {
          "base_uri": "https://localhost:8080/"
        },
        "id": "biHQtRVMtvBL",
        "outputId": "9b1573eb-53d6-49b8-dd87-e9a7fcaa1b92"
      },
      "outputs": [
        {
          "output_type": "stream",
          "name": "stderr",
          "text": [
            "/usr/local/lib/python3.10/dist-packages/gym/envs/registration.py:542: UserWarning: \u001b[33mWARN: Overriding environment env\u001b[0m\n",
            "  logger.warn(f\"Overriding environment {spec.id}\")\n"
          ]
        }
      ],
      "source": [
        "gym.envs.register(id='env', entry_point=Env, max_episode_steps=200)"
      ]
    },
    {
      "cell_type": "code",
      "execution_count": 78,
      "metadata": {
        "colab": {
          "base_uri": "https://localhost:8080/"
        },
        "id": "0G23Xp8Omxyh",
        "outputId": "45f94f73-f654-43c9-bb3d-88e855cca752"
      },
      "outputs": [
        {
          "output_type": "stream",
          "name": "stderr",
          "text": [
            "/usr/local/lib/python3.10/dist-packages/gym/utils/passive_env_checker.py:31: UserWarning: \u001b[33mWARN: A Box observation space has an unconventional shape (neither an image, nor a 1D vector). We recommend flattening the observation to have only a 1D vector or use a custom policy to properly process the data. Actual observation shape: (20, 30)\u001b[0m\n",
            "  logger.warn(\n",
            "/usr/local/lib/python3.10/dist-packages/gym/core.py:317: DeprecationWarning: \u001b[33mWARN: Initializing wrapper in old step API which returns one bool instead of two. It is recommended to set `new_step_api=True` to use new step API. This will be the default behaviour in future.\u001b[0m\n",
            "  deprecation(\n",
            "/usr/local/lib/python3.10/dist-packages/gym/wrappers/step_api_compatibility.py:39: DeprecationWarning: \u001b[33mWARN: Initializing environment in old step API which returns one bool instead of two. It is recommended to set `new_step_api=True` to use new step API. This will be the default behaviour in future.\u001b[0m\n",
            "  deprecation(\n"
          ]
        }
      ],
      "source": [
        "env = gym.make('env')\n",
        "#env.reset()"
      ]
    },
    {
      "cell_type": "code",
      "execution_count": 79,
      "metadata": {
        "colab": {
          "base_uri": "https://localhost:8080/"
        },
        "id": "5ezqah8ST4mz",
        "outputId": "5eb0c77c-7089-474e-8150-b36945fc532a"
      },
      "outputs": [
        {
          "output_type": "stream",
          "name": "stdout",
          "text": [
            "Action Space Discrete(4)\n",
            "State Space Box(0, 10, (20, 30), uint8)\n"
          ]
        }
      ],
      "source": [
        "print(\"Action Space {}\".format(env.action_space))\n",
        "print(\"State Space {}\".format(env.observation_space))"
      ]
    },
    {
      "cell_type": "code",
      "execution_count": 80,
      "metadata": {
        "colab": {
          "base_uri": "https://localhost:8080/"
        },
        "id": "SEUUsVlrVHsG",
        "outputId": "ff82c85f-da15-4ac3-e1ef-8d46fc1a5e4c"
      },
      "outputs": [
        {
          "output_type": "stream",
          "name": "stderr",
          "text": [
            "/usr/local/lib/python3.10/dist-packages/gym/utils/passive_env_checker.py:174: UserWarning: \u001b[33mWARN: Future gym versions will require that `Env.reset` can be passed a `seed` instead of using `Env.seed` for resetting the environment random number generator.\u001b[0m\n",
            "  logger.warn(\n",
            "/usr/local/lib/python3.10/dist-packages/gym/utils/passive_env_checker.py:190: UserWarning: \u001b[33mWARN: Future gym versions will require that `Env.reset` can be passed `return_info` to return information from the environment resetting.\u001b[0m\n",
            "  logger.warn(\n",
            "/usr/local/lib/python3.10/dist-packages/gym/utils/passive_env_checker.py:195: UserWarning: \u001b[33mWARN: Future gym versions will require that `Env.reset` can be passed `options` to allow the environment initialisation to be passed additional information.\u001b[0m\n",
            "  logger.warn(\n",
            "/usr/local/lib/python3.10/dist-packages/gym/utils/passive_env_checker.py:137: UserWarning: \u001b[33mWARN: The obs returned by the `reset()` method was expecting a numpy array, actual type: <class 'tuple'>\u001b[0m\n",
            "  logger.warn(\n",
            "/usr/local/lib/python3.10/dist-packages/gym/spaces/box.py:226: UserWarning: \u001b[33mWARN: Casting input x to numpy array.\u001b[0m\n",
            "  logger.warn(\"Casting input x to numpy array.\")\n",
            "/usr/local/lib/python3.10/dist-packages/gym/utils/passive_env_checker.py:167: UserWarning: \u001b[33mWARN: The obs returned by the `reset()` method is not within the observation space with exception: setting an array element with a sequence. The requested array has an inhomogeneous shape after 1 dimensions. The detected shape was (3,) + inhomogeneous part.\u001b[0m\n",
            "  logger.warn(f\"{pre} is not within the observation space with exception: {e}\")\n",
            "/usr/local/lib/python3.10/dist-packages/gym/utils/passive_env_checker.py:227: DeprecationWarning: \u001b[33mWARN: Core environment is written in old step API which returns one bool instead of two. It is recommended to rewrite the environment with new step API. \u001b[0m\n",
            "  logger.deprecation(\n",
            "/usr/local/lib/python3.10/dist-packages/gym/utils/passive_env_checker.py:137: UserWarning: \u001b[33mWARN: The obs returned by the `step()` method was expecting a numpy array, actual type: <class 'list'>\u001b[0m\n",
            "  logger.warn(\n",
            "/usr/local/lib/python3.10/dist-packages/gym/utils/passive_env_checker.py:165: UserWarning: \u001b[33mWARN: The obs returned by the `step()` method is not within the observation space.\u001b[0m\n",
            "  logger.warn(f\"{pre} is not within the observation space.\")\n"
          ]
        },
        {
          "output_type": "stream",
          "name": "stdout",
          "text": [
            "[467, 497, 467, 437, 407, 377, 347, 346, 316, 376, 346, 345, 315, 315, 346, 376, 406, 405, 375, 345, 375, 405, 375, 345, 344, 374, 344, 343, 313, 342, 312, 312, 343, 344, 314, 314, 314, 314, 374, 404, 374, 373, 343, 373, 403, 373, 372, 342, 372, 373, 374, 375, 374, 344, 345, 375, 376, 346, 347, 317, 377, 378, 348, 318, 349, 319, 319, 319, 350, 320, 321, 291, 261, 260, 259, 230, 231, 201, 200, 170, 171, 141, 111, 81, 82, 52, 112, 52, 52, 81, 51, 21, 21, 50, 80, 50, 20, 20, 51, 81, 111, 81, 80, 81, 80, 110, 80, 79, 50, 49, 80, 110, 140, 110, 80, 110, 111, 141, 142, 142, 111, 110, 109, 111, 112, 81, 51, 52, 21, 21, 21, 21, 21, 81, 51, 50, 80, 81, 80, 50, 20, 20, 51, 52, 21, 81, 111, 110, 140, 141, 111, 110, 111, 112, 141, 171, 172, 170, 140, 170, 140, 170, 200, 230, 200, 199, 230, 260, 290, 289, 260, 259, 290, 320, 290, 291, 261, 231, 261, 291, 321, 291, 290, 291, 290, 260, 261, 262, 231, 230, 229, 200, 201, 202, 171, 170, 169, 200, 170, 200, 230]\n",
            "[467, 466, 436, 406, 405, 375, 345, 344, 343, 344, 345, 346, 345, 375, 376, 346, 347, 348, 378, 379, 378, 408, 409, 410, 409, 379, 409, 410, 411, 441, 411, 410, 380, 379, 349, 350, 320, 350, 380, 410, 411, 381, 380, 381, 382, 383, 353, 354, 353, 383, 382, 381, 411, 441, 471, 501, 471, 470, 469, 499, 529, 559, 560, 561, 560, 559, 560, 561, 562, 561, 562, 563, 562, 563, 564, 563, 564, 565, 595, 535, 505, 506, 536, 566]\n",
            "[467, 466, 465, 435, 405, 375, 405, 404, 405, 435, 465, 464, 434, 435, 434, 464, 465, 495, 465, 435, 405, 406, 376, 377, 407, 377, 378, 379, 409, 379, 378, 408, 407, 406, 405, 375, 376, 346, 345, 346, 347, 346, 347, 377, 347, 348, 347, 346, 376, 406, 407, 408, 409, 410, 411, 441, 471, 470, 469, 470, 500, 499, 469, 499, 529, 559, 529, 499, 500, 470, 469, 470, 471, 472, 502, 503, 533, 563, 564, 565, 566]\n",
            "[467, 437, 467, 497, 527, 557, 556, 526, 527, 526, 556, 555, 556, 557, 527, 497, 467, 466, 496, 497, 496, 495, 496, 466, 436, 406, 436, 435, 405, 404, 434, 435, 434, 464, 465, 464, 463, 493, 494, 464, 434, 404, 374, 404, 405, 406, 376, 346, 376, 375, 376, 377, 378, 408, 409, 410, 411, 441, 471, 472, 502, 501, 531, 501, 500, 530, 560, 530, 531, 561, 531, 532, 533, 563, 564, 565, 566]\n",
            "[467, 497, 527, 526, 527, 557, 556, 526, 496, 526, 525, 524, 494, 495, 525, 555, 525, 526, 556, 555, 554, 524, 525, 495, 465, 435, 405, 435, 465, 466, 496, 466, 467, 437, 407, 408, 409, 410, 411, 441, 471, 441, 471, 470, 469, 499, 469, 470, 500, 499, 529, 530, 529, 559, 560, 561, 562, 563, 564, 565, 566]\n",
            "[467, 437, 436, 435, 436, 437, 407, 408, 409, 408, 378, 408, 409, 410, 380, 379, 409, 379, 380, 410, 411, 410, 409, 410, 411, 441, 411, 381, 411, 441, 471, 470, 500, 530, 500, 499, 529, 499, 469, 470, 469, 499, 500, 530, 560, 559, 529, 530, 531, 532, 533, 563, 564, 565, 566]\n",
            "[467, 437, 407, 408, 409, 410, 411, 410, 380, 410, 411, 381, 411, 441, 471, 470, 469, 499, 500, 530, 560, 561, 562, 563, 564, 565, 566]\n",
            "[467, 466, 467, 437, 407, 408, 409, 408, 378, 379, 409, 410, 411, 441, 471, 441, 471, 472, 473, 503, 533, 563, 564, 565, 566]\n",
            "[467, 437, 407, 408, 409, 379, 349, 379, 409, 410, 411, 441, 471, 472, 502, 503, 533, 563, 564, 565, 566]\n",
            "[467, 437, 407, 408, 409, 410, 411, 441, 471, 472, 502, 503, 533, 563, 564, 565, 566]\n",
            "Training finished.\n",
            "\n"
          ]
        }
      ],
      "source": [
        "q_table = np.zeros([600, 4])\n",
        "\n",
        "matrix = [[row * 30 + col for col in range(30)] for row in range(20)]\n",
        "\n",
        "\"\"\"Training the agent\"\"\"\n",
        "\n",
        "import random\n",
        "from IPython.display import clear_output\n",
        "\n",
        "# Hyperparameters\n",
        "alpha = 0.1\n",
        "gamma = 0.6\n",
        "eps_init = 0.5\n",
        "eps_min = 0.05\n",
        "eps_decay = 0.9994\n",
        "\n",
        "epochs = 1000\n",
        "\n",
        "\n",
        "# Generate exponentially decaying epsilon values\n",
        "epsilons = [eps_init * np.exp(-eps_decay * i) for i in range(epochs)]\n",
        "\n",
        "#print(epsilons)\n",
        "\n",
        "best_steps  = []\n",
        "\n",
        "for i in range(1, 1001):\n",
        "    world, agent, goal = env.reset()\n",
        "\n",
        "    state = matrix[agent[0][0]][agent[0][1]]\n",
        "    goal = matrix[goal[0][0]][goal[0][1]]\n",
        "\n",
        "    #print(state, goal)\n",
        "\n",
        "    epochs, penalties, reward, = 0, 0, 0\n",
        "    done = False\n",
        "\n",
        "    steps = []\n",
        "    steps.append(state)\n",
        "\n",
        "    while not done:\n",
        "        if random.uniform(0, 1) < epsilons[i-1]:\n",
        "            action = env.action_space.sample() # Explore action space\n",
        "            #print(state, action)\n",
        "        else:\n",
        "            action = np.argmax(q_table[state]) # Exploit learned values\n",
        "            #print(state, 'OLD'+ str(action))\n",
        "\n",
        "        pos, reward, done, info = env.step(action)\n",
        "\n",
        "        old_state = matrix[pos[0][0]][pos[0][1]]\n",
        "        new_state = matrix[pos[1][0]][pos[1][1]]\n",
        "        #print(old_state, new_state)\n",
        "\n",
        "        steps.append(new_state)\n",
        "\n",
        "        old_value = q_table[old_state, action]\n",
        "        #print(old_value)\n",
        "        next_max = np.max(q_table[new_state])\n",
        "\n",
        "        new_value = (1 - alpha) * old_value + alpha * (reward + gamma * next_max)\n",
        "        q_table[old_state, action] = new_value\n",
        "\n",
        "        if reward == -10:\n",
        "            penalties += 1\n",
        "\n",
        "        state = new_state\n",
        "        epochs += 1\n",
        "\n",
        "    if i == 1:\n",
        "      best_steps = steps\n",
        "      print(best_steps)\n",
        "    else:\n",
        "      if len(steps) < len(best_steps):\n",
        "        best_steps = steps\n",
        "        print(best_steps)\n",
        "\n",
        "print(\"Training finished.\\n\")\n"
      ]
    },
    {
      "cell_type": "code",
      "execution_count": 81,
      "metadata": {
        "id": "ecgDdDwZiDGI"
      },
      "outputs": [],
      "source": [
        "def find_value(matrix, value):\n",
        "    rows = len(matrix)\n",
        "    cols = len(matrix[0])\n",
        "\n",
        "    for i in range(rows):\n",
        "        for j in range(cols):\n",
        "            if matrix[i][j] == value:\n",
        "                return i, j\n",
        "\n",
        "    # Value not found\n",
        "    return -1, -1"
      ]
    },
    {
      "cell_type": "code",
      "execution_count": 82,
      "metadata": {
        "colab": {
          "base_uri": "https://localhost:8080/"
        },
        "id": "dfEatML5iD9j",
        "outputId": "cd07f8f4-8156-4994-b2ed-7af90f8e06bf"
      },
      "outputs": [
        {
          "output_type": "stream",
          "name": "stdout",
          "text": [
            "18 26\n",
            "{(16, 1): 1, (18, 27): 1, (2, 28): 0, (18, 7): 0, (18, 26): 2, (7, 28): 0, (15, 12): 0, (1, 20): 0, (1, 1): 0, (11, 6): 0, (12, 28): 1}\n"
          ]
        }
      ],
      "source": [
        "i,j = find_value(matrix, best_steps[-1])\n",
        "\n",
        "print(i,j)\n",
        "\n",
        "update_fullness((i,j))\n",
        "print(fullness)\n"
      ]
    },
    {
      "cell_type": "code",
      "execution_count": 83,
      "metadata": {
        "colab": {
          "base_uri": "https://localhost:8080/",
          "height": 431
        },
        "id": "MLdHKcXyptDy",
        "outputId": "4ce89ba9-1cf4-426f-9d65-669105c93673"
      },
      "outputs": [
        {
          "output_type": "stream",
          "name": "stdout",
          "text": [
            "[467, 437, 407, 408, 409, 410, 411, 441, 471, 472, 502, 503, 533, 563, 564, 565, 566]\n"
          ]
        },
        {
          "output_type": "execute_result",
          "data": {
            "text/plain": [
              "<matplotlib.image.AxesImage at 0x799444b0c820>"
            ]
          },
          "metadata": {},
          "execution_count": 83
        },
        {
          "output_type": "display_data",
          "data": {
            "text/plain": [
              "<Figure size 640x480 with 1 Axes>"
            ],
            "image/png": "[encoded data removed]"
          },
          "metadata": {}
        }
      ],
      "source": [
        "print(best_steps)\n",
        "\n",
        "for s in best_steps[:-1]:\n",
        "  i,j = find_value(matrix, s)\n",
        "  x[i,j] = 2\n",
        "\n",
        "img = plot(x, \"nn\", window_size_x=3000, window_size_y=2000)\n",
        "plt.imshow(img)\n"
      ]
    },
    {
      "cell_type": "markdown",
      "source": [
        "**Added part by Leo**\n",
        "(how to deal with plan generated by the planner and visualize it!)"
      ],
      "metadata": {
        "id": "IO3K9f2fYfEB"
      }
    },
    {
      "cell_type": "code",
      "source": [
        "x = generate_matrix((15,17), goals, doors_closed) # I added this to regenerate the map each time I want\n",
        "\n",
        "# example of plan returned by the planner --> is a \"string\" composed by a first part that is the actual plan and then the updated dict representing the fullness of the bins!\n",
        "ris = \"[467, 437, 407, 377, 347, 348, 349, 350, 320, 290, 260, 230, 231, 233, 234, 235, 236, 237, 238] - {(16, 1): 0, (18, 27): 0, (2, 28): 0, (18, 7): 0, (18, 26): 3, (7, 28): 1, (15, 12): 0, (1, 20): 0, (1, 1): 0, (11, 6): 0, (12, 28): 0}\"\n",
        "cells_plan, bins_fullness = ris.split(\" - \")\n",
        "cells_plan = [int(e) for e in cells_plan[1:-1].split(\", \")]\n",
        "\n",
        "# the fact is that the plan generated by the planner doesn't consider the cells occupied by doors,\n",
        "# so to display correctly the path to reach the goal we need to overcome this little problem...\n",
        "cells_adj_doors = [363, 423, 66, 68, 276, 278, 429, 369, 471, 411, 383, 381, 233, 231, 83, 81, 206, 146]\n",
        "cells_adj_doors = set(cells_adj_doors)\n",
        "states2cells_doors = {363 : 393, 423 : 393, 66 : 67, 68 : 67, 276 : 277, 278 : 277, 429 : 399, 369 : 399, 471 : 441, 411 : 441, 381 : 382, 383 : 382, 233 : 232, 231 : 232, 83 : 82, 81 : 82, 206 : 176, 146 : 176}\n",
        "\n",
        "new_plan = []\n",
        "for i in range(len(cells_plan)):\n",
        "    new_plan.append(cells_plan[i])\n",
        "    if cells_plan[i] in cells_adj_doors:\n",
        "        if cells_plan[i+1] in cells_adj_doors:\n",
        "            new_plan.append(states2cells_doors[cells_plan[i]])\n",
        "    else:\n",
        "        continue\n",
        "\n",
        "best_steps = new_plan\n",
        "for s in best_steps[:-1]:\n",
        "  i,j = find_value(matrix, s)\n",
        "  x[i,j] = 2\n",
        "\n",
        "img = plot(x, \"nn\", window_size_x=3000, window_size_y=2000)\n",
        "plt.imshow(img)"
      ],
      "metadata": {
        "colab": {
          "base_uri": "https://localhost:8080/",
          "height": 413
        },
        "id": "DW076myKYeEA",
        "outputId": "5e9b70fb-f949-4a2a-dc16-020ddb7836ae"
      },
      "execution_count": 84,
      "outputs": [
        {
          "output_type": "execute_result",
          "data": {
            "text/plain": [
              "<matplotlib.image.AxesImage at 0x799444997c10>"
            ]
          },
          "metadata": {},
          "execution_count": 84
        },
        {
          "output_type": "display_data",
          "data": {
            "text/plain": [
              "<Figure size 640x480 with 1 Axes>"
            ],
            "image/png": "[encoded data removed]"
          },
          "metadata": {}
        }
      ]
    },
    {
      "cell_type": "markdown",
      "source": [
        "The plan is different because in my planner I set the fullness level of the nearest bin to 3! :)"
      ],
      "metadata": {
        "id": "1NIC_JDglqju"
      }
    }
  ],
  "metadata": {
    "colab": {
      "collapsed_sections": [
        "5k1Xnpy5lfK4",
        "_e1N1QDClswO"
      ],
      "provenance": []
    },
    "kernelspec": {
      "display_name": "Python 3",
      "name": "python3"
    },
    "language_info": {
      "codemirror_mode": {
        "name": "ipython",
        "version": 3
      },
      "file_extension": ".py",
      "mimetype": "text/x-python",
      "name": "python",
      "nbconvert_exporter": "python",
      "pygments_lexer": "ipython3",
      "version": "3.10.4"
    }
  },
  "nbformat": 4,
  "nbformat_minor": 0
}